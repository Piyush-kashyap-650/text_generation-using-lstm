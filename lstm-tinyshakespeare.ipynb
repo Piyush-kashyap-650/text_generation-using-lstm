{
 "cells": [
  {
   "cell_type": "code",
   "execution_count": 1,
   "id": "9c47b1d7",
   "metadata": {
    "_cell_guid": "b1076dfc-b9ad-4769-8c92-a6c4dae69d19",
    "_uuid": "8f2839f25d086af736a60e9eeb907d3b93b6e0e5",
    "execution": {
     "iopub.execute_input": "2025-10-20T12:51:01.497399Z",
     "iopub.status.busy": "2025-10-20T12:51:01.497110Z",
     "iopub.status.idle": "2025-10-20T12:51:02.865535Z",
     "shell.execute_reply": "2025-10-20T12:51:02.864928Z"
    },
    "papermill": {
     "duration": 1.376403,
     "end_time": "2025-10-20T12:51:02.866910",
     "exception": false,
     "start_time": "2025-10-20T12:51:01.490507",
     "status": "completed"
    },
    "tags": []
   },
   "outputs": [],
   "source": [
    "# This Python 3 environment comes with many helpful analytics libraries installed\n",
    "# It is defined by the kaggle/python Docker image: https://github.com/kaggle/docker-python\n",
    "# For example, here's several helpful packages to load\n",
    "\n",
    "import numpy as np # linear algebra\n",
    "import pandas as pd # data processing, CSV file I/O (e.g. pd.read_csv)\n",
    "\n",
    "# Input data files are available in the read-only \"../input/\" directory\n",
    "# For example, running this (by clicking run or pressing Shift+Enter) will list all files under the input directory\n",
    "\n",
    "import os\n",
    "for dirname, _, filenames in os.walk('/kaggle/input'):\n",
    "    for filename in filenames:\n",
    "        print(os.path.join(dirname, filename))\n",
    "\n",
    "# You can write up to 20GB to the current directory (/kaggle/working/) that gets preserved as output when you create a version using \"Save & Run All\" \n",
    "# You can also write temporary files to /kaggle/temp/, but they won't be saved outside of the current session"
   ]
  },
  {
   "cell_type": "markdown",
   "id": "7bbed61b",
   "metadata": {
    "papermill": {
     "duration": 0.004319,
     "end_time": "2025-10-20T12:51:02.876220",
     "exception": false,
     "start_time": "2025-10-20T12:51:02.871901",
     "status": "completed"
    },
    "tags": []
   },
   "source": [
    "# Data preprocessing"
   ]
  },
  {
   "cell_type": "code",
   "execution_count": 2,
   "id": "3c9b662e",
   "metadata": {
    "execution": {
     "iopub.execute_input": "2025-10-20T12:51:02.885389Z",
     "iopub.status.busy": "2025-10-20T12:51:02.885083Z",
     "iopub.status.idle": "2025-10-20T12:51:04.521369Z",
     "shell.execute_reply": "2025-10-20T12:51:04.520585Z"
    },
    "papermill": {
     "duration": 1.642289,
     "end_time": "2025-10-20T12:51:04.522687",
     "exception": false,
     "start_time": "2025-10-20T12:51:02.880398",
     "status": "completed"
    },
    "tags": []
   },
   "outputs": [
    {
     "name": "stdout",
     "output_type": "stream",
     "text": [
      "Length of text: 349,739 characters\n",
      "L424511 +++$+++ u2389 +++$+++ m152 +++$+++ WESLEY +++$+++ You lie, motherfucker... L108175 +++$+++ u613 +++$+++ m39 +++$+++ BOURNE +++$+++ What's going on in Berlin? L419260 +++$+++ u2312 +++$+++ m149 +++$+++ LEON +++$+++ I begin to believe in it myself since I've met you. I still don't know what to make of it. It confuses me, it frightens me a little, but it fascinates me, Ninotchka. L654718 +++$+++ u8917 +++$+++ m606 +++$+++ SANDRA +++$+++ Is that Sam Lombardo? L422786 +++$+++ u6896 +++$+++ m4\n"
     ]
    }
   ],
   "source": [
    "import requests, zipfile, io, random\n",
    "\n",
    "# Download and extract dataset\n",
    "url = \"https://www.cs.cornell.edu/~cristian/data/cornell_movie_dialogs_corpus.zip\"\n",
    "r = requests.get(url)\n",
    "z = zipfile.ZipFile(io.BytesIO(r.content))\n",
    "z.extractall()\n",
    "\n",
    "# Read lines file\n",
    "lines = open(\"cornell movie-dialogs corpus/movie_lines.txt\", \"r\", encoding=\"utf-8\", errors=\"ignore\").read().splitlines()\n",
    "\n",
    "# Take 1/100th subset randomly\n",
    "subset = random.sample(lines, len(lines)//100)\n",
    "\n",
    "# Combine into a single text string\n",
    "text = \" \".join(subset)\n",
    "\n",
    "print(f\"Length of text: {len(text):,} characters\")\n",
    "print(text[:500])\n"
   ]
  },
  {
   "cell_type": "code",
   "execution_count": 3,
   "id": "f199cfb8",
   "metadata": {
    "execution": {
     "iopub.execute_input": "2025-10-20T12:51:04.532322Z",
     "iopub.status.busy": "2025-10-20T12:51:04.532092Z",
     "iopub.status.idle": "2025-10-20T12:51:17.545225Z",
     "shell.execute_reply": "2025-10-20T12:51:17.544608Z"
    },
    "papermill": {
     "duration": 13.01938,
     "end_time": "2025-10-20T12:51:17.546598",
     "exception": false,
     "start_time": "2025-10-20T12:51:04.527218",
     "status": "completed"
    },
    "tags": []
   },
   "outputs": [
    {
     "name": "stderr",
     "output_type": "stream",
     "text": [
      "2025-10-20 12:51:05.957088: E external/local_xla/xla/stream_executor/cuda/cuda_fft.cc:477] Unable to register cuFFT factory: Attempting to register factory for plugin cuFFT when one has already been registered\n",
      "WARNING: All log messages before absl::InitializeLog() is called are written to STDERR\n",
      "E0000 00:00:1760964666.134031      19 cuda_dnn.cc:8310] Unable to register cuDNN factory: Attempting to register factory for plugin cuDNN when one has already been registered\n",
      "E0000 00:00:1760964666.193598      19 cuda_blas.cc:1418] Unable to register cuBLAS factory: Attempting to register factory for plugin cuBLAS when one has already been registered\n"
     ]
    }
   ],
   "source": [
    "import tensorflow as tf\n",
    "from tensorflow.keras.preprocessing.text import Tokenizer"
   ]
  },
  {
   "cell_type": "code",
   "execution_count": 4,
   "id": "8b20cff9",
   "metadata": {
    "execution": {
     "iopub.execute_input": "2025-10-20T12:51:17.556894Z",
     "iopub.status.busy": "2025-10-20T12:51:17.556450Z",
     "iopub.status.idle": "2025-10-20T12:51:17.559839Z",
     "shell.execute_reply": "2025-10-20T12:51:17.559302Z"
    },
    "papermill": {
     "duration": 0.00952,
     "end_time": "2025-10-20T12:51:17.560869",
     "exception": false,
     "start_time": "2025-10-20T12:51:17.551349",
     "status": "completed"
    },
    "tags": []
   },
   "outputs": [],
   "source": [
    "tokenizer=Tokenizer()"
   ]
  },
  {
   "cell_type": "code",
   "execution_count": 5,
   "id": "821d0ca0",
   "metadata": {
    "execution": {
     "iopub.execute_input": "2025-10-20T12:51:17.570128Z",
     "iopub.status.busy": "2025-10-20T12:51:17.569911Z",
     "iopub.status.idle": "2025-10-20T12:51:17.605495Z",
     "shell.execute_reply": "2025-10-20T12:51:17.604984Z"
    },
    "papermill": {
     "duration": 0.041383,
     "end_time": "2025-10-20T12:51:17.606554",
     "exception": false,
     "start_time": "2025-10-20T12:51:17.565171",
     "status": "completed"
    },
    "tags": []
   },
   "outputs": [],
   "source": [
    "tokenizer.fit_on_texts([text])"
   ]
  },
  {
   "cell_type": "code",
   "execution_count": 6,
   "id": "254d40e4",
   "metadata": {
    "execution": {
     "iopub.execute_input": "2025-10-20T12:51:17.616095Z",
     "iopub.status.busy": "2025-10-20T12:51:17.615569Z",
     "iopub.status.idle": "2025-10-20T12:51:17.629790Z",
     "shell.execute_reply": "2025-10-20T12:51:17.629234Z"
    },
    "papermill": {
     "duration": 0.020193,
     "end_time": "2025-10-20T12:51:17.630999",
     "exception": false,
     "start_time": "2025-10-20T12:51:17.610806",
     "status": "completed"
    },
    "tags": []
   },
   "outputs": [
    {
     "data": {
      "text/plain": [
       "{'you': 1,\n",
       " 'i': 2,\n",
       " 'the': 3,\n",
       " 'to': 4,\n",
       " 'a': 5,\n",
       " 'it': 6,\n",
       " 'and': 7,\n",
       " 'of': 8,\n",
       " 'that': 9,\n",
       " 'in': 10,\n",
       " 'is': 11,\n",
       " 'what': 12,\n",
       " 'me': 13,\n",
       " 'this': 14,\n",
       " \"i'm\": 15,\n",
       " \"don't\": 16,\n",
       " 'for': 17,\n",
       " 'know': 18,\n",
       " 'we': 19,\n",
       " 'my': 20,\n",
       " 'your': 21,\n",
       " 'have': 22,\n",
       " 'he': 23,\n",
       " 'on': 24,\n",
       " 'with': 25,\n",
       " 'not': 26,\n",
       " 'do': 27,\n",
       " \"it's\": 28,\n",
       " 'no': 29,\n",
       " 'are': 30,\n",
       " 'was': 31,\n",
       " 'be': 32,\n",
       " 'but': 33,\n",
       " 'like': 34,\n",
       " 'all': 35,\n",
       " \"you're\": 36,\n",
       " 'just': 37,\n",
       " 'get': 38,\n",
       " 'if': 39,\n",
       " 'about': 40,\n",
       " 'they': 41,\n",
       " 'at': 42,\n",
       " 'out': 43,\n",
       " 'one': 44,\n",
       " 'her': 45,\n",
       " 'up': 46,\n",
       " 'so': 47,\n",
       " 'want': 48,\n",
       " 'think': 49,\n",
       " 'here': 50,\n",
       " 'can': 51,\n",
       " 'got': 52,\n",
       " \"that's\": 53,\n",
       " 'him': 54,\n",
       " 'there': 55,\n",
       " 'how': 56,\n",
       " 'well': 57,\n",
       " 'right': 58,\n",
       " 'she': 59,\n",
       " 'now': 60,\n",
       " 'going': 61,\n",
       " 'will': 62,\n",
       " 'tell': 63,\n",
       " 'did': 64,\n",
       " \"i'll\": 65,\n",
       " 'go': 66,\n",
       " \"he's\": 67,\n",
       " 'then': 68,\n",
       " 'u': 69,\n",
       " 'never': 70,\n",
       " \"can't\": 71,\n",
       " 'or': 72,\n",
       " 'why': 73,\n",
       " 'yes': 74,\n",
       " 'see': 75,\n",
       " 'come': 76,\n",
       " 'oh': 77,\n",
       " 'man': 78,\n",
       " 'were': 79,\n",
       " 'as': 80,\n",
       " 'when': 81,\n",
       " 'us': 82,\n",
       " \"i've\": 83,\n",
       " 'who': 84,\n",
       " 'say': 85,\n",
       " 'yeah': 86,\n",
       " 'had': 87,\n",
       " 'could': 88,\n",
       " \"didn't\": 89,\n",
       " 'where': 90,\n",
       " 'been': 91,\n",
       " 'an': 92,\n",
       " 'take': 93,\n",
       " 'time': 94,\n",
       " 'back': 95,\n",
       " 'mean': 96,\n",
       " 'them': 97,\n",
       " 'his': 98,\n",
       " 'would': 99,\n",
       " 'good': 100,\n",
       " 'way': 101,\n",
       " 'something': 102,\n",
       " 'need': 103,\n",
       " \"we're\": 104,\n",
       " 'too': 105,\n",
       " 'little': 106,\n",
       " 'our': 107,\n",
       " 'look': 108,\n",
       " 'make': 109,\n",
       " 'sure': 110,\n",
       " 'from': 111,\n",
       " 'some': 112,\n",
       " \"what's\": 113,\n",
       " 'over': 114,\n",
       " 'has': 115,\n",
       " 'jack': 116,\n",
       " 'okay': 117,\n",
       " 'doing': 118,\n",
       " 'really': 119,\n",
       " 'gonna': 120,\n",
       " 'more': 121,\n",
       " 'off': 122,\n",
       " 'by': 123,\n",
       " 'mr': 124,\n",
       " 'love': 125,\n",
       " 'let': 126,\n",
       " 'give': 127,\n",
       " 'better': 128,\n",
       " 'down': 129,\n",
       " 'maybe': 130,\n",
       " 'sorry': 131,\n",
       " 'said': 132,\n",
       " 'thought': 133,\n",
       " \"she's\": 134,\n",
       " 'people': 135,\n",
       " 'thing': 136,\n",
       " 'any': 137,\n",
       " 'call': 138,\n",
       " 'much': 139,\n",
       " 'am': 140,\n",
       " 'very': 141,\n",
       " \"there's\": 142,\n",
       " 'should': 143,\n",
       " 'talk': 144,\n",
       " 'nothing': 145,\n",
       " 'because': 146,\n",
       " 'told': 147,\n",
       " 'please': 148,\n",
       " 'sir': 149,\n",
       " 'again': 150,\n",
       " 'two': 151,\n",
       " 'into': 152,\n",
       " 'life': 153,\n",
       " 'even': 154,\n",
       " 'other': 155,\n",
       " 'than': 156,\n",
       " 'put': 157,\n",
       " 'does': 158,\n",
       " 'believe': 159,\n",
       " 'only': 160,\n",
       " 'anything': 161,\n",
       " \"i'd\": 162,\n",
       " 'mrs': 163,\n",
       " \"you've\": 164,\n",
       " 'away': 165,\n",
       " 'these': 166,\n",
       " 'which': 167,\n",
       " 'long': 168,\n",
       " 'ever': 169,\n",
       " 'money': 170,\n",
       " 'room': 171,\n",
       " 'day': 172,\n",
       " 'find': 173,\n",
       " 'work': 174,\n",
       " 'still': 175,\n",
       " 'around': 176,\n",
       " 'girl': 177,\n",
       " \"they're\": 178,\n",
       " 'old': 179,\n",
       " 'yourself': 180,\n",
       " 'stay': 181,\n",
       " 'george': 182,\n",
       " 'great': 183,\n",
       " 'big': 184,\n",
       " 'help': 185,\n",
       " \"doesn't\": 186,\n",
       " 'those': 187,\n",
       " 'last': 188,\n",
       " 'place': 189,\n",
       " 'remember': 190,\n",
       " 'must': 191,\n",
       " 'guess': 192,\n",
       " 'real': 193,\n",
       " 'mother': 194,\n",
       " \"you'll\": 195,\n",
       " 'bad': 196,\n",
       " 'dr': 197,\n",
       " 'shit': 198,\n",
       " 'stop': 199,\n",
       " 'came': 200,\n",
       " 'dead': 201,\n",
       " 'first': 202,\n",
       " 'three': 203,\n",
       " 'house': 204,\n",
       " 'night': 205,\n",
       " 'after': 206,\n",
       " 'feel': 207,\n",
       " 'god': 208,\n",
       " \"isn't\": 209,\n",
       " 'hey': 210,\n",
       " 'understand': 211,\n",
       " 'baby': 212,\n",
       " 'ask': 213,\n",
       " 'david': 214,\n",
       " 'course': 215,\n",
       " 'john': 216,\n",
       " \"won't\": 217,\n",
       " 'leave': 218,\n",
       " 'thank': 219,\n",
       " 'keep': 220,\n",
       " 'years': 221,\n",
       " 'nice': 222,\n",
       " 'kind': 223,\n",
       " 'chance': 224,\n",
       " 'fucking': 225,\n",
       " \"wouldn't\": 226,\n",
       " 'mary': 227,\n",
       " 'next': 228,\n",
       " 'charlie': 229,\n",
       " 'their': 230,\n",
       " 'michael': 231,\n",
       " \"we'll\": 232,\n",
       " 'hear': 233,\n",
       " 'always': 234,\n",
       " 'own': 235,\n",
       " 'before': 236,\n",
       " 'gave': 237,\n",
       " 'nick': 238,\n",
       " 'listen': 239,\n",
       " 'name': 240,\n",
       " 'went': 241,\n",
       " 'through': 242,\n",
       " 'school': 243,\n",
       " 'home': 244,\n",
       " 'lot': 245,\n",
       " 'jerry': 246,\n",
       " \"'em\": 247,\n",
       " 'uh': 248,\n",
       " \"let's\": 249,\n",
       " 'enough': 250,\n",
       " 'things': 251,\n",
       " 'bobby': 252,\n",
       " 'frank': 253,\n",
       " 'jake': 254,\n",
       " 'men': 255,\n",
       " 'father': 256,\n",
       " 'world': 257,\n",
       " 'done': 258,\n",
       " 'guy': 259,\n",
       " 'most': 260,\n",
       " 'jim': 261,\n",
       " 'wait': 262,\n",
       " 'm299': 263,\n",
       " 'another': 264,\n",
       " 'jesus': 265,\n",
       " \"wasn't\": 266,\n",
       " 'job': 267,\n",
       " 'being': 268,\n",
       " 'mind': 269,\n",
       " 'new': 270,\n",
       " 'anyone': 271,\n",
       " 'made': 272,\n",
       " 'soon': 273,\n",
       " 'every': 274,\n",
       " 'miss': 275,\n",
       " 'happened': 276,\n",
       " 'else': 277,\n",
       " 'knew': 278,\n",
       " 'hell': 279,\n",
       " \"who's\": 280,\n",
       " 'since': 281,\n",
       " 'sam': 282,\n",
       " 'already': 283,\n",
       " 'without': 284,\n",
       " 'wrong': 285,\n",
       " 'die': 286,\n",
       " 'best': 287,\n",
       " 'meet': 288,\n",
       " 'm234': 289,\n",
       " 'sick': 290,\n",
       " 'voice': 291,\n",
       " 'harry': 292,\n",
       " 'someone': 293,\n",
       " 'saw': 294,\n",
       " 'thinking': 295,\n",
       " 'took': 296,\n",
       " 'captain': 297,\n",
       " 'joe': 298,\n",
       " \"we've\": 299,\n",
       " 'try': 300,\n",
       " 'gotta': 301,\n",
       " 'may': 302,\n",
       " 'everything': 303,\n",
       " 'saying': 304,\n",
       " 'bring': 305,\n",
       " 'huh': 306,\n",
       " 'yet': 307,\n",
       " 'rose': 308,\n",
       " 'might': 309,\n",
       " 'care': 310,\n",
       " 'hard': 311,\n",
       " 'dad': 312,\n",
       " 'm216': 313,\n",
       " 'm243': 314,\n",
       " 'mike': 315,\n",
       " 'wanted': 316,\n",
       " 'married': 317,\n",
       " 'fuck': 318,\n",
       " 'son': 319,\n",
       " 'm152': 320,\n",
       " 'm150': 321,\n",
       " 'getting': 322,\n",
       " 'wanna': 323,\n",
       " 'together': 324,\n",
       " 'left': 325,\n",
       " 'exactly': 326,\n",
       " 'hope': 327,\n",
       " 'such': 328,\n",
       " 'friend': 329,\n",
       " 'true': 330,\n",
       " 'car': 331,\n",
       " 'm528': 332,\n",
       " 'm208': 333,\n",
       " 'office': 334,\n",
       " 'door': 335,\n",
       " 'same': 336,\n",
       " 'six': 337,\n",
       " 'morning': 338,\n",
       " 'deal': 339,\n",
       " 'trouble': 340,\n",
       " 'alone': 341,\n",
       " 'ray': 342,\n",
       " \"where's\": 343,\n",
       " 'minutes': 344,\n",
       " 'peter': 345,\n",
       " 'four': 346,\n",
       " 'found': 347,\n",
       " 'damn': 348,\n",
       " 'bill': 349,\n",
       " \"haven't\": 350,\n",
       " 'seen': 351,\n",
       " 'm487': 352,\n",
       " 'hurt': 353,\n",
       " 'point': 354,\n",
       " 'trying': 355,\n",
       " 'couple': 356,\n",
       " 'walter': 357,\n",
       " 'm516': 358,\n",
       " 'boy': 359,\n",
       " 'ship': 360,\n",
       " 'lee': 361,\n",
       " 'truth': 362,\n",
       " 'm435': 363,\n",
       " 'm289': 364,\n",
       " 'drink': 365,\n",
       " 'm100': 366,\n",
       " 'm318': 367,\n",
       " 'ben': 368,\n",
       " 'm16': 369,\n",
       " 'annie': 370,\n",
       " 'either': 371,\n",
       " 'each': 372,\n",
       " 'eddie': 373,\n",
       " 'woman': 374,\n",
       " 'business': 375,\n",
       " 'until': 376,\n",
       " 'under': 377,\n",
       " 'm428': 378,\n",
       " 'ann': 379,\n",
       " 'm35': 380,\n",
       " 'doctor': 381,\n",
       " 'open': 382,\n",
       " 'betty': 383,\n",
       " 'm532': 384,\n",
       " 'case': 385,\n",
       " 'promise': 386,\n",
       " 'live': 387,\n",
       " 'crazy': 388,\n",
       " 'talking': 389,\n",
       " 'm118': 390,\n",
       " \"couldn't\": 391,\n",
       " 'once': 392,\n",
       " 'alright': 393,\n",
       " 'fine': 394,\n",
       " 'happen': 395,\n",
       " 'm72': 396,\n",
       " \"you'd\": 397,\n",
       " 'making': 398,\n",
       " 'm452': 399,\n",
       " 'least': 400,\n",
       " 'coming': 401,\n",
       " 'also': 402,\n",
       " 'nixon': 403,\n",
       " 'whole': 404,\n",
       " 'm332': 405,\n",
       " 'buddy': 406,\n",
       " 'times': 407,\n",
       " 'm105': 408,\n",
       " 'excuse': 409,\n",
       " 'm595': 410,\n",
       " 'probably': 411,\n",
       " 'm90': 412,\n",
       " 'tomorrow': 413,\n",
       " 'rob': 414,\n",
       " 'm20': 415,\n",
       " 'whatever': 416,\n",
       " 'm238': 417,\n",
       " 'ya': 418,\n",
       " 'days': 419,\n",
       " 'ted': 420,\n",
       " 'friends': 421,\n",
       " 'miles': 422,\n",
       " 'tried': 423,\n",
       " 'start': 424,\n",
       " 'rest': 425,\n",
       " 'problem': 426,\n",
       " 'gets': 427,\n",
       " 'important': 428,\n",
       " 'matter': 429,\n",
       " 'ed': 430,\n",
       " 'gun': 431,\n",
       " 'use': 432,\n",
       " \"aren't\": 433,\n",
       " 'claire': 434,\n",
       " 'makes': 435,\n",
       " 'hate': 436,\n",
       " 'm178': 437,\n",
       " 'm376': 438,\n",
       " 'few': 439,\n",
       " 'm229': 440,\n",
       " 'bit': 441,\n",
       " 'gone': 442,\n",
       " 'm403': 443,\n",
       " 'ready': 444,\n",
       " 'm295': 445,\n",
       " 'm141': 446,\n",
       " 'm62': 447,\n",
       " 'sister': 448,\n",
       " 'end': 449,\n",
       " 'o': 450,\n",
       " 'high': 451,\n",
       " 'women': 452,\n",
       " 'myself': 453,\n",
       " 'm462': 454,\n",
       " 'd': 455,\n",
       " 'close': 456,\n",
       " 'u2340': 457,\n",
       " 'war': 458,\n",
       " 'hit': 459,\n",
       " 'town': 460,\n",
       " 'm287': 461,\n",
       " 'dorothy': 462,\n",
       " 'm230': 463,\n",
       " 'head': 464,\n",
       " 'phone': 465,\n",
       " 'm175': 466,\n",
       " 'almost': 467,\n",
       " 'anybody': 468,\n",
       " 'm4': 469,\n",
       " 'honey': 470,\n",
       " 'm512': 471,\n",
       " 'helen': 472,\n",
       " 'used': 473,\n",
       " 'm266': 474,\n",
       " 'guys': 475,\n",
       " 'major': 476,\n",
       " 'kirk': 477,\n",
       " 'having': 478,\n",
       " 'lost': 479,\n",
       " 'sarah': 480,\n",
       " 'm380': 481,\n",
       " 'hours': 482,\n",
       " 'm25': 483,\n",
       " 'm333': 484,\n",
       " 'easy': 485,\n",
       " 'm164': 486,\n",
       " 'reed': 487,\n",
       " 'bet': 488,\n",
       " 'm593': 489,\n",
       " 'buy': 490,\n",
       " 'm292': 491,\n",
       " 'm169': 492,\n",
       " 'weeks': 493,\n",
       " 'different': 494,\n",
       " 'yours': 495,\n",
       " 'forget': 496,\n",
       " \"he'll\": 497,\n",
       " 'm513': 498,\n",
       " 'm570': 499,\n",
       " 'm107': 500,\n",
       " \"ain't\": 501,\n",
       " 'second': 502,\n",
       " 'm10': 503,\n",
       " 'late': 504,\n",
       " 'president': 505,\n",
       " 'run': 506,\n",
       " 'm231': 507,\n",
       " 'kill': 508,\n",
       " 'beth': 509,\n",
       " 'looking': 510,\n",
       " \"'cause\": 511,\n",
       " 'pretty': 512,\n",
       " 'music': 513,\n",
       " 'wife': 514,\n",
       " 'while': 515,\n",
       " 'm103': 516,\n",
       " 'able': 517,\n",
       " 'ten': 518,\n",
       " 'sue': 519,\n",
       " 'james': 520,\n",
       " 'looks': 521,\n",
       " 'stan': 522,\n",
       " 'adam': 523,\n",
       " 'm536': 524,\n",
       " 'max': 525,\n",
       " 'ago': 526,\n",
       " 'm467': 527,\n",
       " 'safe': 528,\n",
       " 'died': 529,\n",
       " 'tom': 530,\n",
       " 'act': 531,\n",
       " 'heard': 532,\n",
       " 'doug': 533,\n",
       " 'beautiful': 534,\n",
       " 'harold': 535,\n",
       " 'ah': 536,\n",
       " 'u4525': 537,\n",
       " 'dante': 538,\n",
       " 'm537': 539,\n",
       " 'jeff': 540,\n",
       " 'm355': 541,\n",
       " 'jackie': 542,\n",
       " 'm120': 543,\n",
       " 'm336': 544,\n",
       " 'm293': 545,\n",
       " 'kyle': 546,\n",
       " 'eyes': 547,\n",
       " 'middle': 548,\n",
       " 'm368': 549,\n",
       " 'm426': 550,\n",
       " 'quite': 551,\n",
       " 'm381': 552,\n",
       " 'm112': 553,\n",
       " 'words': 554,\n",
       " 'calling': 555,\n",
       " 'against': 556,\n",
       " 'm610': 557,\n",
       " 'working': 558,\n",
       " 'm525': 559,\n",
       " 'ass': 560,\n",
       " 'u3681': 561,\n",
       " 'alvy': 562,\n",
       " 'm202': 563,\n",
       " 'norman': 564,\n",
       " 'many': 565,\n",
       " 'daddy': 566,\n",
       " 'grace': 567,\n",
       " 'm569': 568,\n",
       " 'm352': 569,\n",
       " 'killed': 570,\n",
       " 'm415': 571,\n",
       " 'm82': 572,\n",
       " 'm348': 573,\n",
       " 'called': 574,\n",
       " 'martha': 575,\n",
       " 'epps': 576,\n",
       " 'turn': 577,\n",
       " 'm300': 578,\n",
       " 'm283': 579,\n",
       " 'm465': 580,\n",
       " 'm106': 581,\n",
       " 'm257': 582,\n",
       " 'white': 583,\n",
       " 'm133': 584,\n",
       " 'm499': 585,\n",
       " 'm550': 586,\n",
       " 'm34': 587,\n",
       " 'm217': 588,\n",
       " 'doc': 589,\n",
       " 'poor': 590,\n",
       " 'move': 591,\n",
       " 'set': 592,\n",
       " 'anyway': 593,\n",
       " 'm83': 594,\n",
       " 'm605': 595,\n",
       " 'free': 596,\n",
       " 'jennifer': 597,\n",
       " \"they'll\": 598,\n",
       " 'somebody': 599,\n",
       " 'met': 600,\n",
       " 'save': 601,\n",
       " 'send': 602,\n",
       " 'm2': 603,\n",
       " 'm373': 604,\n",
       " 'grady': 605,\n",
       " 'm370': 606,\n",
       " 'm347': 607,\n",
       " 'm540': 608,\n",
       " 'idea': 609,\n",
       " 'running': 610,\n",
       " 'm163': 611,\n",
       " 'm286': 612,\n",
       " 'minute': 613,\n",
       " 'm221': 614,\n",
       " 'agnes': 615,\n",
       " 'perhaps': 616,\n",
       " 'm68': 617,\n",
       " 'wants': 618,\n",
       " 'm198': 619,\n",
       " 'till': 620,\n",
       " 'henry': 621,\n",
       " 'wonderful': 622,\n",
       " 'husband': 623,\n",
       " 'knows': 624,\n",
       " 'm43': 625,\n",
       " 'eve': 626,\n",
       " 'm199': 627,\n",
       " 'children': 628,\n",
       " 'm247': 629,\n",
       " 'king': 630,\n",
       " 'm464': 631,\n",
       " 'm451': 632,\n",
       " 'walk': 633,\n",
       " 'half': 634,\n",
       " 'hour': 635,\n",
       " 'hi': 636,\n",
       " 'm58': 637,\n",
       " 'm463': 638,\n",
       " 'seems': 639,\n",
       " 'between': 640,\n",
       " 'm220': 641,\n",
       " 'm330': 642,\n",
       " 'luke': 643,\n",
       " 'everybody': 644,\n",
       " 'm57': 645,\n",
       " 'week': 646,\n",
       " 'm556': 647,\n",
       " 'five': 648,\n",
       " 'j': 649,\n",
       " 'part': 650,\n",
       " 'sleep': 651,\n",
       " 'tommy': 652,\n",
       " 'm601': 653,\n",
       " 'm575': 654,\n",
       " 'm405': 655,\n",
       " 'm167': 656,\n",
       " 'brought': 657,\n",
       " 'm444': 658,\n",
       " 'play': 659,\n",
       " 'mom': 660,\n",
       " 'm273': 661,\n",
       " 'm78': 662,\n",
       " 'pick': 663,\n",
       " 'worth': 664,\n",
       " 'm77': 665,\n",
       " 'm151': 666,\n",
       " 'karen': 667,\n",
       " 'diane': 668,\n",
       " 'm44': 669,\n",
       " 'm24': 670,\n",
       " 'm92': 671,\n",
       " 'm423': 672,\n",
       " 'theo': 673,\n",
       " 'bob': 674,\n",
       " 'm296': 675,\n",
       " 'book': 676,\n",
       " 'danny': 677,\n",
       " 'hand': 678,\n",
       " 'everyone': 679,\n",
       " 'm278': 680,\n",
       " 'nine': 681,\n",
       " 'm251': 682,\n",
       " 'carol': 683,\n",
       " 'martin': 684,\n",
       " 'grant': 685,\n",
       " 'ellie': 686,\n",
       " 'm565': 687,\n",
       " 'christ': 688,\n",
       " 'control': 689,\n",
       " 'leonard': 690,\n",
       " 'ok': 691,\n",
       " 'marty': 692,\n",
       " 'm149': 693,\n",
       " 'anna': 694,\n",
       " 'm123': 695,\n",
       " 'decided': 696,\n",
       " 'family': 697,\n",
       " 'lives': 698,\n",
       " 'happens': 699,\n",
       " 'line': 700,\n",
       " 'm408': 701,\n",
       " 'blood': 702,\n",
       " 'm353': 703,\n",
       " 'piece': 704,\n",
       " 'm104': 705,\n",
       " 'weird': 706,\n",
       " 'handle': 707,\n",
       " 'm84': 708,\n",
       " \"shouldn't\": 709,\n",
       " 'm303': 710,\n",
       " 'hammond': 711,\n",
       " 'm294': 712,\n",
       " 'm228': 713,\n",
       " 'm495': 714,\n",
       " 'barry': 715,\n",
       " 'margo': 716,\n",
       " 'm235': 717,\n",
       " 'm592': 718,\n",
       " 'kid': 719,\n",
       " 'm564': 720,\n",
       " 'm225': 721,\n",
       " 'galvin': 722,\n",
       " 'turned': 723,\n",
       " 'm256': 724,\n",
       " 'm458': 725,\n",
       " 'asked': 726,\n",
       " 'suppose': 727,\n",
       " 'twenty': 728,\n",
       " 'show': 729,\n",
       " 'tonight': 730,\n",
       " 'm45': 731,\n",
       " 'm222': 732,\n",
       " 'goddamn': 733,\n",
       " 'm560': 734,\n",
       " 'm200': 735,\n",
       " 'm503': 736,\n",
       " 'm511': 737,\n",
       " \"fuckin'\": 738,\n",
       " 'york': 739,\n",
       " 'm572': 740,\n",
       " 'moment': 741,\n",
       " 'brian': 742,\n",
       " 'obvious': 743,\n",
       " 'm358': 744,\n",
       " 'm209': 745,\n",
       " 'question': 746,\n",
       " 'comes': 747,\n",
       " 'm180': 748,\n",
       " 'm88': 749,\n",
       " 'stuff': 750,\n",
       " 'dean': 751,\n",
       " 'm279': 752,\n",
       " 'm308': 753,\n",
       " 'm207': 754,\n",
       " 'm508': 755,\n",
       " 'answer': 756,\n",
       " 'miller': 757,\n",
       " 'm351': 758,\n",
       " 'm322': 759,\n",
       " 'luck': 760,\n",
       " 'eat': 761,\n",
       " 'm54': 762,\n",
       " 'm46': 763,\n",
       " 'm197': 764,\n",
       " 'movie': 765,\n",
       " 'kids': 766,\n",
       " 'bed': 767,\n",
       " 'mine': 768,\n",
       " 'graham': 769,\n",
       " 'break': 770,\n",
       " 'person': 771,\n",
       " 'hello': 772,\n",
       " 'possible': 773,\n",
       " 'm154': 774,\n",
       " 'u1827': 775,\n",
       " 'stupid': 776,\n",
       " 'mac': 777,\n",
       " 'u3555': 778,\n",
       " 'both': 779,\n",
       " 'm188': 780,\n",
       " 'happy': 781,\n",
       " 'supposed': 782,\n",
       " 'hurry': 783,\n",
       " 'fucked': 784,\n",
       " 'm145': 785,\n",
       " 'm411': 786,\n",
       " 'shut': 787,\n",
       " 'jeffrey': 788,\n",
       " 'richard': 789,\n",
       " 'm276': 790,\n",
       " 'm577': 791,\n",
       " 'u2196': 792,\n",
       " 'mumford': 793,\n",
       " 'm28': 794,\n",
       " 'waiting': 795,\n",
       " 'm386': 796,\n",
       " 'm320': 797,\n",
       " 'bud': 798,\n",
       " 'face': 799,\n",
       " 'm240': 800,\n",
       " 'goes': 801,\n",
       " 'm204': 802,\n",
       " 'm219': 803,\n",
       " 'death': 804,\n",
       " 'street': 805,\n",
       " 'looked': 806,\n",
       " 'm171': 807,\n",
       " 'sit': 808,\n",
       " 'moving': 809,\n",
       " 'ways': 810,\n",
       " 'm454': 811,\n",
       " 'judge': 812,\n",
       " 'besides': 813,\n",
       " 'started': 814,\n",
       " 'dark': 815,\n",
       " 'pass': 816,\n",
       " 'playing': 817,\n",
       " 'm345': 818,\n",
       " 'johnny': 819,\n",
       " 'm594': 820,\n",
       " 'awful': 821,\n",
       " 'lady': 822,\n",
       " 'says': 823,\n",
       " 'serious': 824,\n",
       " 'wish': 825,\n",
       " 'mickey': 826,\n",
       " 'thomas': 827,\n",
       " 'fire': 828,\n",
       " 'read': 829,\n",
       " \"we'd\": 830,\n",
       " 'earl': 831,\n",
       " \"'\": 832,\n",
       " 'faith': 833,\n",
       " 'm146': 834,\n",
       " 'm239': 835,\n",
       " 'm127': 836,\n",
       " 'm469': 837,\n",
       " 'jody': 838,\n",
       " 'worry': 839,\n",
       " 'm193': 840,\n",
       " 'u3266': 841,\n",
       " 'thelma': 842,\n",
       " 'game': 843,\n",
       " 'special': 844,\n",
       " 'hold': 845,\n",
       " 'm39': 846,\n",
       " 'rules': 847,\n",
       " 'blue': 848,\n",
       " 'heart': 849,\n",
       " 'm399': 850,\n",
       " 'company': 851,\n",
       " 'ear': 852,\n",
       " 'kinda': 853,\n",
       " 'm184': 854,\n",
       " 'm557': 855,\n",
       " 'm237': 856,\n",
       " 'buffy': 857,\n",
       " 'robert': 858,\n",
       " 'phil': 859,\n",
       " 'number': 860,\n",
       " 'clay': 861,\n",
       " 'seeing': 862,\n",
       " 'wondering': 863,\n",
       " 'u2687': 864,\n",
       " 'watch': 865,\n",
       " 'ought': 866,\n",
       " 'later': 867,\n",
       " 'm421': 868,\n",
       " 'louis': 869,\n",
       " '1': 870,\n",
       " 'm498': 871,\n",
       " 'u2511': 872,\n",
       " 'u3549': 873,\n",
       " 'agent': 874,\n",
       " 'm449': 875,\n",
       " 'c': 876,\n",
       " 'm539': 877,\n",
       " 'certain': 878,\n",
       " 'eight': 879,\n",
       " 'm544': 880,\n",
       " 'telling': 881,\n",
       " 'thinks': 882,\n",
       " 'deep': 883,\n",
       " 'm93': 884,\n",
       " 'trust': 885,\n",
       " 'm533': 886,\n",
       " 'marriage': 887,\n",
       " 'chuck': 888,\n",
       " 'm356': 889,\n",
       " 'thirty': 890,\n",
       " 'calm': 891,\n",
       " 'somewhere': 892,\n",
       " 'smart': 893,\n",
       " 'm27': 894,\n",
       " 'finish': 895,\n",
       " 'm1': 896,\n",
       " \"everybody's\": 897,\n",
       " 'm549': 898,\n",
       " 'm162': 899,\n",
       " 'melanie': 900,\n",
       " 'm136': 901,\n",
       " 'asking': 902,\n",
       " 'm23': 903,\n",
       " 'fast': 904,\n",
       " 'u1323': 905,\n",
       " 'simple': 906,\n",
       " 'm59': 907,\n",
       " 'm312': 908,\n",
       " 'honor': 909,\n",
       " 'funny': 910,\n",
       " 'stand': 911,\n",
       " 'm329': 912,\n",
       " 'less': 913,\n",
       " 'u884': 914,\n",
       " \"how's\": 915,\n",
       " 'm211': 916,\n",
       " 'u8197': 917,\n",
       " 'mulder': 918,\n",
       " 'lloyd': 919,\n",
       " 'carter': 920,\n",
       " 'year': 921,\n",
       " 'u4405': 922,\n",
       " 'fergus': 923,\n",
       " 'afraid': 924,\n",
       " 'check': 925,\n",
       " 'none': 926,\n",
       " 'm41': 927,\n",
       " 'evan': 928,\n",
       " 'm269': 929,\n",
       " 'm586': 930,\n",
       " 'living': 931,\n",
       " 'm102': 932,\n",
       " 'm119': 933,\n",
       " 'feeling': 934,\n",
       " 'billy': 935,\n",
       " 'road': 936,\n",
       " 'm155': 937,\n",
       " 'm195': 938,\n",
       " 'm124': 939,\n",
       " 'uncle': 940,\n",
       " 'christy': 941,\n",
       " 'josie': 942,\n",
       " 'm21': 943,\n",
       " 'm168': 944,\n",
       " 'order': 945,\n",
       " 'm335': 946,\n",
       " 'm501': 947,\n",
       " 'tired': 948,\n",
       " 'sonny': 949,\n",
       " 'nicky': 950,\n",
       " 'mitchell': 951,\n",
       " 'u8408': 952,\n",
       " 'u6068': 953,\n",
       " 'brody': 954,\n",
       " 'sometimes': 955,\n",
       " 'u8300': 956,\n",
       " 'lombard': 957,\n",
       " 'hotel': 958,\n",
       " 'months': 959,\n",
       " 'm538': 960,\n",
       " 'situation': 961,\n",
       " 'm555': 962,\n",
       " 'm265': 963,\n",
       " 'u955': 964,\n",
       " 'frances': 965,\n",
       " 'm475': 966,\n",
       " 'wonder': 967,\n",
       " 'm285': 968,\n",
       " 'm371': 969,\n",
       " 'ahead': 970,\n",
       " 'water': 971,\n",
       " 'm558': 972,\n",
       " 'ethan': 973,\n",
       " 'brain': 974,\n",
       " 'm589': 975,\n",
       " 'm507': 976,\n",
       " 'perfect': 977,\n",
       " 'm101': 978,\n",
       " 'clarence': 979,\n",
       " 'worse': 980,\n",
       " 'throw': 981,\n",
       " 'star': 982,\n",
       " 'm131': 983,\n",
       " 'mccall': 984,\n",
       " 'detective': 985,\n",
       " 'thanks': 986,\n",
       " 'm400': 987,\n",
       " 'julie': 988,\n",
       " 'rita': 989,\n",
       " 'u8114': 990,\n",
       " 'nicholas': 991,\n",
       " 'rick': 992,\n",
       " 'm427': 993,\n",
       " 'linda': 994,\n",
       " 'm274': 995,\n",
       " 'weight': 996,\n",
       " 'm485': 997,\n",
       " 'm375': 998,\n",
       " 'touch': 999,\n",
       " 'm181': 1000,\n",
       " ...}"
      ]
     },
     "execution_count": 6,
     "metadata": {},
     "output_type": "execute_result"
    }
   ],
   "source": [
    "tokenizer.word_index"
   ]
  },
  {
   "cell_type": "code",
   "execution_count": 7,
   "id": "2c61dfc1",
   "metadata": {
    "execution": {
     "iopub.execute_input": "2025-10-20T12:51:17.641344Z",
     "iopub.status.busy": "2025-10-20T12:51:17.641163Z",
     "iopub.status.idle": "2025-10-20T12:51:17.645180Z",
     "shell.execute_reply": "2025-10-20T12:51:17.644668Z"
    },
    "papermill": {
     "duration": 0.010246,
     "end_time": "2025-10-20T12:51:17.646166",
     "exception": false,
     "start_time": "2025-10-20T12:51:17.635920",
     "status": "completed"
    },
    "tags": []
   },
   "outputs": [
    {
     "data": {
      "text/plain": [
       "11453"
      ]
     },
     "execution_count": 7,
     "metadata": {},
     "output_type": "execute_result"
    }
   ],
   "source": [
    "last_index=len(tokenizer.word_index)\n",
    "last_index"
   ]
  },
  {
   "cell_type": "code",
   "execution_count": 8,
   "id": "39ef6e77",
   "metadata": {
    "execution": {
     "iopub.execute_input": "2025-10-20T12:51:17.656888Z",
     "iopub.status.busy": "2025-10-20T12:51:17.656358Z",
     "iopub.status.idle": "2025-10-20T12:51:17.659402Z",
     "shell.execute_reply": "2025-10-20T12:51:17.658880Z"
    },
    "papermill": {
     "duration": 0.009307,
     "end_time": "2025-10-20T12:51:17.660329",
     "exception": false,
     "start_time": "2025-10-20T12:51:17.651022",
     "status": "completed"
    },
    "tags": []
   },
   "outputs": [],
   "source": [
    "input_sequences=[]"
   ]
  },
  {
   "cell_type": "code",
   "execution_count": 9,
   "id": "949b39d4",
   "metadata": {
    "execution": {
     "iopub.execute_input": "2025-10-20T12:51:17.674260Z",
     "iopub.status.busy": "2025-10-20T12:51:17.674053Z",
     "iopub.status.idle": "2025-10-20T12:51:30.645103Z",
     "shell.execute_reply": "2025-10-20T12:51:30.644456Z"
    },
    "papermill": {
     "duration": 12.981441,
     "end_time": "2025-10-20T12:51:30.646453",
     "exception": false,
     "start_time": "2025-10-20T12:51:17.665012",
     "status": "completed"
    },
    "tags": []
   },
   "outputs": [],
   "source": [
    "for sentence in text.split(\"\\n\"):\n",
    "    tokenized_sentence=tokenizer.texts_to_sequences([sentence])[0]\n",
    "    for i in range (1,len(tokenized_sentence)):\n",
    "        n_gram=tokenized_sentence[:i+1]\n",
    "        input_sequences.append(n_gram)"
   ]
  },
  {
   "cell_type": "code",
   "execution_count": 10,
   "id": "850a65d1",
   "metadata": {
    "execution": {
     "iopub.execute_input": "2025-10-20T12:51:30.657596Z",
     "iopub.status.busy": "2025-10-20T12:51:30.657380Z",
     "iopub.status.idle": "2025-10-20T12:51:30.662009Z",
     "shell.execute_reply": "2025-10-20T12:51:30.661329Z"
    },
    "papermill": {
     "duration": 0.011214,
     "end_time": "2025-10-20T12:51:30.663116",
     "exception": false,
     "start_time": "2025-10-20T12:51:30.651902",
     "status": "completed"
    },
    "tags": []
   },
   "outputs": [
    {
     "data": {
      "text/plain": [
       "[[3765, 3766],\n",
       " [3765, 3766, 320],\n",
       " [3765, 3766, 320, 3767],\n",
       " [3765, 3766, 320, 3767, 1],\n",
       " [3765, 3766, 320, 3767, 1, 1275]]"
      ]
     },
     "execution_count": 10,
     "metadata": {},
     "output_type": "execute_result"
    }
   ],
   "source": [
    "input_sequences[:5]"
   ]
  },
  {
   "cell_type": "code",
   "execution_count": 11,
   "id": "c2f74e83",
   "metadata": {
    "execution": {
     "iopub.execute_input": "2025-10-20T12:51:30.674024Z",
     "iopub.status.busy": "2025-10-20T12:51:30.673812Z",
     "iopub.status.idle": "2025-10-20T12:51:30.682211Z",
     "shell.execute_reply": "2025-10-20T12:51:30.681695Z"
    },
    "papermill": {
     "duration": 0.015233,
     "end_time": "2025-10-20T12:51:30.683227",
     "exception": false,
     "start_time": "2025-10-20T12:51:30.667994",
     "status": "completed"
    },
    "tags": []
   },
   "outputs": [
    {
     "data": {
      "text/plain": [
       "180"
      ]
     },
     "execution_count": 11,
     "metadata": {},
     "output_type": "execute_result"
    }
   ],
   "source": [
    "max_len=max([len(x) for x in input_sequences])\n",
    "max_len=min(180,max_len)\n",
    "max_len"
   ]
  },
  {
   "cell_type": "code",
   "execution_count": 12,
   "id": "5e71c470",
   "metadata": {
    "execution": {
     "iopub.execute_input": "2025-10-20T12:51:30.693981Z",
     "iopub.status.busy": "2025-10-20T12:51:30.693459Z",
     "iopub.status.idle": "2025-10-20T12:51:30.696976Z",
     "shell.execute_reply": "2025-10-20T12:51:30.696494Z"
    },
    "papermill": {
     "duration": 0.009819,
     "end_time": "2025-10-20T12:51:30.697998",
     "exception": false,
     "start_time": "2025-10-20T12:51:30.688179",
     "status": "completed"
    },
    "tags": []
   },
   "outputs": [],
   "source": [
    "from tensorflow.keras.preprocessing.sequence import pad_sequences"
   ]
  },
  {
   "cell_type": "code",
   "execution_count": 13,
   "id": "cc6a64c8",
   "metadata": {
    "execution": {
     "iopub.execute_input": "2025-10-20T12:51:30.708379Z",
     "iopub.status.busy": "2025-10-20T12:51:30.708178Z",
     "iopub.status.idle": "2025-10-20T12:51:31.175773Z",
     "shell.execute_reply": "2025-10-20T12:51:31.175131Z"
    },
    "papermill": {
     "duration": 0.474269,
     "end_time": "2025-10-20T12:51:31.177163",
     "exception": false,
     "start_time": "2025-10-20T12:51:30.702894",
     "status": "completed"
    },
    "tags": []
   },
   "outputs": [],
   "source": [
    "padded_input_sequences= pad_sequences(input_sequences,maxlen=max_len,padding='pre')"
   ]
  },
  {
   "cell_type": "code",
   "execution_count": 14,
   "id": "e40f754a",
   "metadata": {
    "execution": {
     "iopub.execute_input": "2025-10-20T12:51:31.188336Z",
     "iopub.status.busy": "2025-10-20T12:51:31.188121Z",
     "iopub.status.idle": "2025-10-20T12:51:31.194047Z",
     "shell.execute_reply": "2025-10-20T12:51:31.193435Z"
    },
    "papermill": {
     "duration": 0.012774,
     "end_time": "2025-10-20T12:51:31.195142",
     "exception": false,
     "start_time": "2025-10-20T12:51:31.182368",
     "status": "completed"
    },
    "tags": []
   },
   "outputs": [
    {
     "data": {
      "text/plain": [
       "array([[   0,    0,    0,    0,    0,    0,    0,    0,    0,    0,    0,\n",
       "           0,    0,    0,    0,    0,    0,    0,    0,    0,    0,    0,\n",
       "           0,    0,    0,    0,    0,    0,    0,    0,    0,    0,    0,\n",
       "           0,    0,    0,    0,    0,    0,    0,    0,    0,    0,    0,\n",
       "           0,    0,    0,    0,    0,    0,    0,    0,    0,    0,    0,\n",
       "           0,    0,    0,    0,    0,    0,    0,    0,    0,    0,    0,\n",
       "           0,    0,    0,    0,    0,    0,    0,    0,    0,    0,    0,\n",
       "           0,    0,    0,    0,    0,    0,    0,    0,    0,    0,    0,\n",
       "           0,    0,    0,    0,    0,    0,    0,    0,    0,    0,    0,\n",
       "           0,    0,    0,    0,    0,    0,    0,    0,    0,    0,    0,\n",
       "           0,    0,    0,    0,    0,    0,    0,    0,    0,    0,    0,\n",
       "           0,    0,    0,    0,    0,    0,    0,    0,    0,    0,    0,\n",
       "           0,    0,    0,    0,    0,    0,    0,    0,    0,    0,    0,\n",
       "           0,    0,    0,    0,    0,    0,    0,    0,    0,    0,    0,\n",
       "           0,    0,    0,    0,    0,    0,    0,    0,    0,    0,    0,\n",
       "           0,    0,    0,    0,    0,    0,    0,    0,    0,    0,    0,\n",
       "           0,    0, 3765, 3766],\n",
       "       [   0,    0,    0,    0,    0,    0,    0,    0,    0,    0,    0,\n",
       "           0,    0,    0,    0,    0,    0,    0,    0,    0,    0,    0,\n",
       "           0,    0,    0,    0,    0,    0,    0,    0,    0,    0,    0,\n",
       "           0,    0,    0,    0,    0,    0,    0,    0,    0,    0,    0,\n",
       "           0,    0,    0,    0,    0,    0,    0,    0,    0,    0,    0,\n",
       "           0,    0,    0,    0,    0,    0,    0,    0,    0,    0,    0,\n",
       "           0,    0,    0,    0,    0,    0,    0,    0,    0,    0,    0,\n",
       "           0,    0,    0,    0,    0,    0,    0,    0,    0,    0,    0,\n",
       "           0,    0,    0,    0,    0,    0,    0,    0,    0,    0,    0,\n",
       "           0,    0,    0,    0,    0,    0,    0,    0,    0,    0,    0,\n",
       "           0,    0,    0,    0,    0,    0,    0,    0,    0,    0,    0,\n",
       "           0,    0,    0,    0,    0,    0,    0,    0,    0,    0,    0,\n",
       "           0,    0,    0,    0,    0,    0,    0,    0,    0,    0,    0,\n",
       "           0,    0,    0,    0,    0,    0,    0,    0,    0,    0,    0,\n",
       "           0,    0,    0,    0,    0,    0,    0,    0,    0,    0,    0,\n",
       "           0,    0,    0,    0,    0,    0,    0,    0,    0,    0,    0,\n",
       "           0, 3765, 3766,  320],\n",
       "       [   0,    0,    0,    0,    0,    0,    0,    0,    0,    0,    0,\n",
       "           0,    0,    0,    0,    0,    0,    0,    0,    0,    0,    0,\n",
       "           0,    0,    0,    0,    0,    0,    0,    0,    0,    0,    0,\n",
       "           0,    0,    0,    0,    0,    0,    0,    0,    0,    0,    0,\n",
       "           0,    0,    0,    0,    0,    0,    0,    0,    0,    0,    0,\n",
       "           0,    0,    0,    0,    0,    0,    0,    0,    0,    0,    0,\n",
       "           0,    0,    0,    0,    0,    0,    0,    0,    0,    0,    0,\n",
       "           0,    0,    0,    0,    0,    0,    0,    0,    0,    0,    0,\n",
       "           0,    0,    0,    0,    0,    0,    0,    0,    0,    0,    0,\n",
       "           0,    0,    0,    0,    0,    0,    0,    0,    0,    0,    0,\n",
       "           0,    0,    0,    0,    0,    0,    0,    0,    0,    0,    0,\n",
       "           0,    0,    0,    0,    0,    0,    0,    0,    0,    0,    0,\n",
       "           0,    0,    0,    0,    0,    0,    0,    0,    0,    0,    0,\n",
       "           0,    0,    0,    0,    0,    0,    0,    0,    0,    0,    0,\n",
       "           0,    0,    0,    0,    0,    0,    0,    0,    0,    0,    0,\n",
       "           0,    0,    0,    0,    0,    0,    0,    0,    0,    0,    0,\n",
       "        3765, 3766,  320, 3767],\n",
       "       [   0,    0,    0,    0,    0,    0,    0,    0,    0,    0,    0,\n",
       "           0,    0,    0,    0,    0,    0,    0,    0,    0,    0,    0,\n",
       "           0,    0,    0,    0,    0,    0,    0,    0,    0,    0,    0,\n",
       "           0,    0,    0,    0,    0,    0,    0,    0,    0,    0,    0,\n",
       "           0,    0,    0,    0,    0,    0,    0,    0,    0,    0,    0,\n",
       "           0,    0,    0,    0,    0,    0,    0,    0,    0,    0,    0,\n",
       "           0,    0,    0,    0,    0,    0,    0,    0,    0,    0,    0,\n",
       "           0,    0,    0,    0,    0,    0,    0,    0,    0,    0,    0,\n",
       "           0,    0,    0,    0,    0,    0,    0,    0,    0,    0,    0,\n",
       "           0,    0,    0,    0,    0,    0,    0,    0,    0,    0,    0,\n",
       "           0,    0,    0,    0,    0,    0,    0,    0,    0,    0,    0,\n",
       "           0,    0,    0,    0,    0,    0,    0,    0,    0,    0,    0,\n",
       "           0,    0,    0,    0,    0,    0,    0,    0,    0,    0,    0,\n",
       "           0,    0,    0,    0,    0,    0,    0,    0,    0,    0,    0,\n",
       "           0,    0,    0,    0,    0,    0,    0,    0,    0,    0,    0,\n",
       "           0,    0,    0,    0,    0,    0,    0,    0,    0,    0, 3765,\n",
       "        3766,  320, 3767,    1],\n",
       "       [   0,    0,    0,    0,    0,    0,    0,    0,    0,    0,    0,\n",
       "           0,    0,    0,    0,    0,    0,    0,    0,    0,    0,    0,\n",
       "           0,    0,    0,    0,    0,    0,    0,    0,    0,    0,    0,\n",
       "           0,    0,    0,    0,    0,    0,    0,    0,    0,    0,    0,\n",
       "           0,    0,    0,    0,    0,    0,    0,    0,    0,    0,    0,\n",
       "           0,    0,    0,    0,    0,    0,    0,    0,    0,    0,    0,\n",
       "           0,    0,    0,    0,    0,    0,    0,    0,    0,    0,    0,\n",
       "           0,    0,    0,    0,    0,    0,    0,    0,    0,    0,    0,\n",
       "           0,    0,    0,    0,    0,    0,    0,    0,    0,    0,    0,\n",
       "           0,    0,    0,    0,    0,    0,    0,    0,    0,    0,    0,\n",
       "           0,    0,    0,    0,    0,    0,    0,    0,    0,    0,    0,\n",
       "           0,    0,    0,    0,    0,    0,    0,    0,    0,    0,    0,\n",
       "           0,    0,    0,    0,    0,    0,    0,    0,    0,    0,    0,\n",
       "           0,    0,    0,    0,    0,    0,    0,    0,    0,    0,    0,\n",
       "           0,    0,    0,    0,    0,    0,    0,    0,    0,    0,    0,\n",
       "           0,    0,    0,    0,    0,    0,    0,    0,    0, 3765, 3766,\n",
       "         320, 3767,    1, 1275]], dtype=int32)"
      ]
     },
     "execution_count": 14,
     "metadata": {},
     "output_type": "execute_result"
    }
   ],
   "source": [
    "padded_input_sequences[:5]"
   ]
  },
  {
   "cell_type": "code",
   "execution_count": 15,
   "id": "5e347a1e",
   "metadata": {
    "execution": {
     "iopub.execute_input": "2025-10-20T12:51:31.206387Z",
     "iopub.status.busy": "2025-10-20T12:51:31.205832Z",
     "iopub.status.idle": "2025-10-20T12:51:31.210115Z",
     "shell.execute_reply": "2025-10-20T12:51:31.209565Z"
    },
    "papermill": {
     "duration": 0.010808,
     "end_time": "2025-10-20T12:51:31.211070",
     "exception": false,
     "start_time": "2025-10-20T12:51:31.200262",
     "status": "completed"
    },
    "tags": []
   },
   "outputs": [
    {
     "data": {
      "text/plain": [
       "array([[    0,     0,     0, ...,     0,     0,  3765],\n",
       "       [    0,     0,     0, ...,     0,  3765,  3766],\n",
       "       [    0,     0,     0, ...,  3765,  3766,   320],\n",
       "       ...,\n",
       "       [   29, 11419, 11420, ...,     3, 11452, 11453],\n",
       "       [11419, 11420,  1610, ..., 11452, 11453,  3734],\n",
       "       [11420,  1610, 11421, ..., 11453,  3734,    21]], dtype=int32)"
      ]
     },
     "execution_count": 15,
     "metadata": {},
     "output_type": "execute_result"
    }
   ],
   "source": [
    "X=padded_input_sequences[:,:-1]\n",
    "X"
   ]
  },
  {
   "cell_type": "code",
   "execution_count": 16,
   "id": "513a6cdc",
   "metadata": {
    "execution": {
     "iopub.execute_input": "2025-10-20T12:51:31.222204Z",
     "iopub.status.busy": "2025-10-20T12:51:31.221685Z",
     "iopub.status.idle": "2025-10-20T12:51:31.225697Z",
     "shell.execute_reply": "2025-10-20T12:51:31.225211Z"
    },
    "papermill": {
     "duration": 0.010522,
     "end_time": "2025-10-20T12:51:31.226654",
     "exception": false,
     "start_time": "2025-10-20T12:51:31.216132",
     "status": "completed"
    },
    "tags": []
   },
   "outputs": [
    {
     "data": {
      "text/plain": [
       "array([3766,  320, 3767, ..., 3734,   21,  171], dtype=int32)"
      ]
     },
     "execution_count": 16,
     "metadata": {},
     "output_type": "execute_result"
    }
   ],
   "source": [
    "y=padded_input_sequences[:,-1]\n",
    "y"
   ]
  },
  {
   "cell_type": "code",
   "execution_count": 17,
   "id": "3084b8c9",
   "metadata": {
    "execution": {
     "iopub.execute_input": "2025-10-20T12:51:31.237738Z",
     "iopub.status.busy": "2025-10-20T12:51:31.237272Z",
     "iopub.status.idle": "2025-10-20T12:51:31.368849Z",
     "shell.execute_reply": "2025-10-20T12:51:31.368091Z"
    },
    "papermill": {
     "duration": 0.138267,
     "end_time": "2025-10-20T12:51:31.370060",
     "exception": false,
     "start_time": "2025-10-20T12:51:31.231793",
     "status": "completed"
    },
    "tags": []
   },
   "outputs": [
    {
     "data": {
      "text/plain": [
       "array([[0., 0., 0., ..., 0., 0., 0.],\n",
       "       [0., 0., 0., ..., 0., 0., 0.],\n",
       "       [0., 0., 0., ..., 0., 0., 0.],\n",
       "       ...,\n",
       "       [0., 0., 0., ..., 0., 0., 0.],\n",
       "       [0., 0., 0., ..., 0., 0., 0.],\n",
       "       [0., 0., 0., ..., 0., 0., 0.]])"
      ]
     },
     "execution_count": 17,
     "metadata": {},
     "output_type": "execute_result"
    }
   ],
   "source": [
    "from tensorflow.keras.utils import to_categorical\n",
    "to_categorical(y,num_classes=len(tokenizer.word_index)+1)"
   ]
  },
  {
   "cell_type": "markdown",
   "id": "3b45ad96",
   "metadata": {
    "papermill": {
     "duration": 0.005289,
     "end_time": "2025-10-20T12:51:31.380863",
     "exception": false,
     "start_time": "2025-10-20T12:51:31.375574",
     "status": "completed"
    },
    "tags": []
   },
   "source": [
    "# model architecture and training"
   ]
  },
  {
   "cell_type": "code",
   "execution_count": 18,
   "id": "dc2f0620",
   "metadata": {
    "execution": {
     "iopub.execute_input": "2025-10-20T12:51:31.391998Z",
     "iopub.status.busy": "2025-10-20T12:51:31.391771Z",
     "iopub.status.idle": "2025-10-20T12:51:31.398022Z",
     "shell.execute_reply": "2025-10-20T12:51:31.397478Z"
    },
    "papermill": {
     "duration": 0.012987,
     "end_time": "2025-10-20T12:51:31.399032",
     "exception": false,
     "start_time": "2025-10-20T12:51:31.386045",
     "status": "completed"
    },
    "tags": []
   },
   "outputs": [],
   "source": [
    "from tensorflow.keras.models import Sequential\n",
    "from tensorflow.keras.layers import Embedding, LSTM, Dense, Dropout\n",
    "import numpy as np"
   ]
  },
  {
   "cell_type": "code",
   "execution_count": 19,
   "id": "74a68556",
   "metadata": {
    "execution": {
     "iopub.execute_input": "2025-10-20T12:51:31.410509Z",
     "iopub.status.busy": "2025-10-20T12:51:31.410071Z",
     "iopub.status.idle": "2025-10-20T12:51:33.417722Z",
     "shell.execute_reply": "2025-10-20T12:51:33.417077Z"
    },
    "papermill": {
     "duration": 2.014811,
     "end_time": "2025-10-20T12:51:33.419206",
     "exception": false,
     "start_time": "2025-10-20T12:51:31.404395",
     "status": "completed"
    },
    "tags": []
   },
   "outputs": [
    {
     "name": "stderr",
     "output_type": "stream",
     "text": [
      "/usr/local/lib/python3.11/dist-packages/keras/src/layers/core/embedding.py:93: UserWarning: Do not pass an `input_shape`/`input_dim` argument to a layer. When using Sequential models, prefer using an `Input(shape)` object as the first layer in the model instead.\n",
      "  super().__init__(**kwargs)\n",
      "I0000 00:00:1760964692.096996      19 gpu_device.cc:2022] Created device /job:localhost/replica:0/task:0/device:GPU:0 with 15513 MB memory:  -> device: 0, name: Tesla P100-PCIE-16GB, pci bus id: 0000:00:04.0, compute capability: 6.0\n"
     ]
    }
   ],
   "source": [
    "model = Sequential([\n",
    "    Embedding(last_index+1, 256, input_shape=(max_len,)),\n",
    "    LSTM(256, dropout=0.3),\n",
    "    Dense(last_index+1, activation='softmax')\n",
    "])"
   ]
  },
  {
   "cell_type": "code",
   "execution_count": 20,
   "id": "65cbdc83",
   "metadata": {
    "execution": {
     "iopub.execute_input": "2025-10-20T12:51:33.431343Z",
     "iopub.status.busy": "2025-10-20T12:51:33.431109Z",
     "iopub.status.idle": "2025-10-20T12:51:33.444615Z",
     "shell.execute_reply": "2025-10-20T12:51:33.443899Z"
    },
    "papermill": {
     "duration": 0.020742,
     "end_time": "2025-10-20T12:51:33.445744",
     "exception": false,
     "start_time": "2025-10-20T12:51:33.425002",
     "status": "completed"
    },
    "tags": []
   },
   "outputs": [],
   "source": [
    "from tensorflow.keras.optimizers import Adam\n",
    "optimizer = Adam(learning_rate=0.005, clipnorm=1.0)\n",
    "model.compile(loss='sparse_categorical_crossentropy',\n",
    "              optimizer=optimizer,\n",
    "              metrics=['accuracy'])"
   ]
  },
  {
   "cell_type": "code",
   "execution_count": 21,
   "id": "3fb78914",
   "metadata": {
    "execution": {
     "iopub.execute_input": "2025-10-20T12:51:33.457008Z",
     "iopub.status.busy": "2025-10-20T12:51:33.456791Z",
     "iopub.status.idle": "2025-10-20T12:51:33.468808Z",
     "shell.execute_reply": "2025-10-20T12:51:33.468120Z"
    },
    "papermill": {
     "duration": 0.018876,
     "end_time": "2025-10-20T12:51:33.469919",
     "exception": false,
     "start_time": "2025-10-20T12:51:33.451043",
     "status": "completed"
    },
    "tags": []
   },
   "outputs": [
    {
     "data": {
      "text/html": [
       "<pre style=\"white-space:pre;overflow-x:auto;line-height:normal;font-family:Menlo,'DejaVu Sans Mono',consolas,'Courier New',monospace\"><span style=\"font-weight: bold\">Model: \"sequential\"</span>\n",
       "</pre>\n"
      ],
      "text/plain": [
       "\u001b[1mModel: \"sequential\"\u001b[0m\n"
      ]
     },
     "metadata": {},
     "output_type": "display_data"
    },
    {
     "data": {
      "text/html": [
       "<pre style=\"white-space:pre;overflow-x:auto;line-height:normal;font-family:Menlo,'DejaVu Sans Mono',consolas,'Courier New',monospace\">┏━━━━━━━━━━━━━━━━━━━━━━━━━━━━━━━━━┳━━━━━━━━━━━━━━━━━━━━━━━━┳━━━━━━━━━━━━━━━┓\n",
       "┃<span style=\"font-weight: bold\"> Layer (type)                    </span>┃<span style=\"font-weight: bold\"> Output Shape           </span>┃<span style=\"font-weight: bold\">       Param # </span>┃\n",
       "┡━━━━━━━━━━━━━━━━━━━━━━━━━━━━━━━━━╇━━━━━━━━━━━━━━━━━━━━━━━━╇━━━━━━━━━━━━━━━┩\n",
       "│ embedding (<span style=\"color: #0087ff; text-decoration-color: #0087ff\">Embedding</span>)           │ (<span style=\"color: #00d7ff; text-decoration-color: #00d7ff\">None</span>, <span style=\"color: #00af00; text-decoration-color: #00af00\">180</span>, <span style=\"color: #00af00; text-decoration-color: #00af00\">256</span>)       │     <span style=\"color: #00af00; text-decoration-color: #00af00\">2,932,224</span> │\n",
       "├─────────────────────────────────┼────────────────────────┼───────────────┤\n",
       "│ lstm (<span style=\"color: #0087ff; text-decoration-color: #0087ff\">LSTM</span>)                     │ (<span style=\"color: #00d7ff; text-decoration-color: #00d7ff\">None</span>, <span style=\"color: #00af00; text-decoration-color: #00af00\">256</span>)            │       <span style=\"color: #00af00; text-decoration-color: #00af00\">525,312</span> │\n",
       "├─────────────────────────────────┼────────────────────────┼───────────────┤\n",
       "│ dense (<span style=\"color: #0087ff; text-decoration-color: #0087ff\">Dense</span>)                   │ (<span style=\"color: #00d7ff; text-decoration-color: #00d7ff\">None</span>, <span style=\"color: #00af00; text-decoration-color: #00af00\">11454</span>)          │     <span style=\"color: #00af00; text-decoration-color: #00af00\">2,943,678</span> │\n",
       "└─────────────────────────────────┴────────────────────────┴───────────────┘\n",
       "</pre>\n"
      ],
      "text/plain": [
       "┏━━━━━━━━━━━━━━━━━━━━━━━━━━━━━━━━━┳━━━━━━━━━━━━━━━━━━━━━━━━┳━━━━━━━━━━━━━━━┓\n",
       "┃\u001b[1m \u001b[0m\u001b[1mLayer (type)                   \u001b[0m\u001b[1m \u001b[0m┃\u001b[1m \u001b[0m\u001b[1mOutput Shape          \u001b[0m\u001b[1m \u001b[0m┃\u001b[1m \u001b[0m\u001b[1m      Param #\u001b[0m\u001b[1m \u001b[0m┃\n",
       "┡━━━━━━━━━━━━━━━━━━━━━━━━━━━━━━━━━╇━━━━━━━━━━━━━━━━━━━━━━━━╇━━━━━━━━━━━━━━━┩\n",
       "│ embedding (\u001b[38;5;33mEmbedding\u001b[0m)           │ (\u001b[38;5;45mNone\u001b[0m, \u001b[38;5;34m180\u001b[0m, \u001b[38;5;34m256\u001b[0m)       │     \u001b[38;5;34m2,932,224\u001b[0m │\n",
       "├─────────────────────────────────┼────────────────────────┼───────────────┤\n",
       "│ lstm (\u001b[38;5;33mLSTM\u001b[0m)                     │ (\u001b[38;5;45mNone\u001b[0m, \u001b[38;5;34m256\u001b[0m)            │       \u001b[38;5;34m525,312\u001b[0m │\n",
       "├─────────────────────────────────┼────────────────────────┼───────────────┤\n",
       "│ dense (\u001b[38;5;33mDense\u001b[0m)                   │ (\u001b[38;5;45mNone\u001b[0m, \u001b[38;5;34m11454\u001b[0m)          │     \u001b[38;5;34m2,943,678\u001b[0m │\n",
       "└─────────────────────────────────┴────────────────────────┴───────────────┘\n"
      ]
     },
     "metadata": {},
     "output_type": "display_data"
    },
    {
     "data": {
      "text/html": [
       "<pre style=\"white-space:pre;overflow-x:auto;line-height:normal;font-family:Menlo,'DejaVu Sans Mono',consolas,'Courier New',monospace\"><span style=\"font-weight: bold\"> Total params: </span><span style=\"color: #00af00; text-decoration-color: #00af00\">6,401,214</span> (24.42 MB)\n",
       "</pre>\n"
      ],
      "text/plain": [
       "\u001b[1m Total params: \u001b[0m\u001b[38;5;34m6,401,214\u001b[0m (24.42 MB)\n"
      ]
     },
     "metadata": {},
     "output_type": "display_data"
    },
    {
     "data": {
      "text/html": [
       "<pre style=\"white-space:pre;overflow-x:auto;line-height:normal;font-family:Menlo,'DejaVu Sans Mono',consolas,'Courier New',monospace\"><span style=\"font-weight: bold\"> Trainable params: </span><span style=\"color: #00af00; text-decoration-color: #00af00\">6,401,214</span> (24.42 MB)\n",
       "</pre>\n"
      ],
      "text/plain": [
       "\u001b[1m Trainable params: \u001b[0m\u001b[38;5;34m6,401,214\u001b[0m (24.42 MB)\n"
      ]
     },
     "metadata": {},
     "output_type": "display_data"
    },
    {
     "data": {
      "text/html": [
       "<pre style=\"white-space:pre;overflow-x:auto;line-height:normal;font-family:Menlo,'DejaVu Sans Mono',consolas,'Courier New',monospace\"><span style=\"font-weight: bold\"> Non-trainable params: </span><span style=\"color: #00af00; text-decoration-color: #00af00\">0</span> (0.00 B)\n",
       "</pre>\n"
      ],
      "text/plain": [
       "\u001b[1m Non-trainable params: \u001b[0m\u001b[38;5;34m0\u001b[0m (0.00 B)\n"
      ]
     },
     "metadata": {},
     "output_type": "display_data"
    }
   ],
   "source": [
    "model.summary()"
   ]
  },
  {
   "cell_type": "code",
   "execution_count": 22,
   "id": "3d89eea0",
   "metadata": {
    "execution": {
     "iopub.execute_input": "2025-10-20T12:51:33.482203Z",
     "iopub.status.busy": "2025-10-20T12:51:33.482001Z",
     "iopub.status.idle": "2025-10-20T12:51:33.487155Z",
     "shell.execute_reply": "2025-10-20T12:51:33.486672Z"
    },
    "papermill": {
     "duration": 0.012345,
     "end_time": "2025-10-20T12:51:33.488180",
     "exception": false,
     "start_time": "2025-10-20T12:51:33.475835",
     "status": "completed"
    },
    "tags": []
   },
   "outputs": [],
   "source": [
    "from tensorflow.keras.callbacks import EarlyStopping, ModelCheckpoint\n",
    "\n",
    "early_stop = EarlyStopping(\n",
    "    monitor='val_loss',\n",
    "    patience=5,\n",
    "    restore_best_weights=True\n",
    ")\n",
    "\n",
    "checkpoint = ModelCheckpoint(\n",
    "    'best_model.h5',\n",
    "    monitor='val_loss',\n",
    "    save_best_only=True\n",
    ")"
   ]
  },
  {
   "cell_type": "code",
   "execution_count": 23,
   "id": "4a446388",
   "metadata": {
    "execution": {
     "iopub.execute_input": "2025-10-20T12:51:33.500410Z",
     "iopub.status.busy": "2025-10-20T12:51:33.500216Z",
     "iopub.status.idle": "2025-10-20T12:53:35.981748Z",
     "shell.execute_reply": "2025-10-20T12:53:35.981067Z"
    },
    "papermill": {
     "duration": 122.489029,
     "end_time": "2025-10-20T12:53:35.983092",
     "exception": false,
     "start_time": "2025-10-20T12:51:33.494063",
     "status": "completed"
    },
    "tags": []
   },
   "outputs": [
    {
     "name": "stdout",
     "output_type": "stream",
     "text": [
      "Epoch 1/100\n"
     ]
    },
    {
     "name": "stderr",
     "output_type": "stream",
     "text": [
      "I0000 00:00:1760964701.881867      59 cuda_dnn.cc:529] Loaded cuDNN version 90300\n"
     ]
    },
    {
     "name": "stdout",
     "output_type": "stream",
     "text": [
      "\u001b[1m636/636\u001b[0m \u001b[32m━━━━━━━━━━━━━━━━━━━━\u001b[0m\u001b[37m\u001b[0m \u001b[1m21s\u001b[0m 26ms/step - accuracy: 0.0279 - loss: 8.0159 - val_accuracy: 0.0562 - val_loss: 7.5694\n",
      "Epoch 2/100\n",
      "\u001b[1m636/636\u001b[0m \u001b[32m━━━━━━━━━━━━━━━━━━━━\u001b[0m\u001b[37m\u001b[0m \u001b[1m16s\u001b[0m 25ms/step - accuracy: 0.0759 - loss: 6.5547 - val_accuracy: 0.0932 - val_loss: 7.4079\n",
      "Epoch 3/100\n",
      "\u001b[1m636/636\u001b[0m \u001b[32m━━━━━━━━━━━━━━━━━━━━\u001b[0m\u001b[37m\u001b[0m \u001b[1m16s\u001b[0m 25ms/step - accuracy: 0.1501 - loss: 5.1463 - val_accuracy: 0.1045 - val_loss: 7.6440\n",
      "Epoch 4/100\n",
      "\u001b[1m636/636\u001b[0m \u001b[32m━━━━━━━━━━━━━━━━━━━━\u001b[0m\u001b[37m\u001b[0m \u001b[1m16s\u001b[0m 25ms/step - accuracy: 0.2825 - loss: 3.8485 - val_accuracy: 0.1007 - val_loss: 8.1928\n",
      "Epoch 5/100\n",
      "\u001b[1m636/636\u001b[0m \u001b[32m━━━━━━━━━━━━━━━━━━━━\u001b[0m\u001b[37m\u001b[0m \u001b[1m16s\u001b[0m 25ms/step - accuracy: 0.3901 - loss: 2.9838 - val_accuracy: 0.0941 - val_loss: 8.6091\n",
      "Epoch 6/100\n",
      "\u001b[1m636/636\u001b[0m \u001b[32m━━━━━━━━━━━━━━━━━━━━\u001b[0m\u001b[37m\u001b[0m \u001b[1m16s\u001b[0m 25ms/step - accuracy: 0.4521 - loss: 2.5290 - val_accuracy: 0.0801 - val_loss: 9.0383\n",
      "Epoch 7/100\n",
      "\u001b[1m636/636\u001b[0m \u001b[32m━━━━━━━━━━━━━━━━━━━━\u001b[0m\u001b[37m\u001b[0m \u001b[1m16s\u001b[0m 25ms/step - accuracy: 0.4957 - loss: 2.2460 - val_accuracy: 0.0846 - val_loss: 9.3318\n"
     ]
    }
   ],
   "source": [
    "history = model.fit(\n",
    "    X, y,\n",
    "    validation_split=0.1,\n",
    "    epochs=100,\n",
    "    batch_size=64,\n",
    "    callbacks=[early_stop, checkpoint]\n",
    ")"
   ]
  },
  {
   "cell_type": "markdown",
   "id": "7b50b094",
   "metadata": {
    "papermill": {
     "duration": 0.066991,
     "end_time": "2025-10-20T12:53:36.118371",
     "exception": false,
     "start_time": "2025-10-20T12:53:36.051380",
     "status": "completed"
    },
    "tags": []
   },
   "source": [
    "# prediction"
   ]
  },
  {
   "cell_type": "code",
   "execution_count": 24,
   "id": "15b4bfeb",
   "metadata": {
    "execution": {
     "iopub.execute_input": "2025-10-20T12:53:36.253837Z",
     "iopub.status.busy": "2025-10-20T12:53:36.253530Z",
     "iopub.status.idle": "2025-10-20T12:53:36.257565Z",
     "shell.execute_reply": "2025-10-20T12:53:36.256952Z"
    },
    "papermill": {
     "duration": 0.074329,
     "end_time": "2025-10-20T12:53:36.258828",
     "exception": false,
     "start_time": "2025-10-20T12:53:36.184499",
     "status": "completed"
    },
    "tags": []
   },
   "outputs": [],
   "source": [
    "text=\"waiting\"\n",
    "# tokenize\n",
    "tokenized_text=tokenizer.texts_to_sequences([text])[0]\n",
    "# padding\n",
    "padded_text=pad_sequences([tokenized_text],maxlen=max_len,padding='pre')"
   ]
  },
  {
   "cell_type": "code",
   "execution_count": 25,
   "id": "0da0fc90",
   "metadata": {
    "execution": {
     "iopub.execute_input": "2025-10-20T12:53:36.391079Z",
     "iopub.status.busy": "2025-10-20T12:53:36.390731Z",
     "iopub.status.idle": "2025-10-20T12:53:36.651917Z",
     "shell.execute_reply": "2025-10-20T12:53:36.651147Z"
    },
    "papermill": {
     "duration": 0.328425,
     "end_time": "2025-10-20T12:53:36.653191",
     "exception": false,
     "start_time": "2025-10-20T12:53:36.324766",
     "status": "completed"
    },
    "tags": []
   },
   "outputs": [
    {
     "name": "stdout",
     "output_type": "stream",
     "text": [
      "\u001b[1m1/1\u001b[0m \u001b[32m━━━━━━━━━━━━━━━━━━━━\u001b[0m\u001b[37m\u001b[0m \u001b[1m0s\u001b[0m 210ms/step\n"
     ]
    }
   ],
   "source": [
    "# predict\n",
    "position=np.argmax(model.predict(padded_text))"
   ]
  },
  {
   "cell_type": "code",
   "execution_count": 26,
   "id": "2c98ae8b",
   "metadata": {
    "execution": {
     "iopub.execute_input": "2025-10-20T12:53:36.882271Z",
     "iopub.status.busy": "2025-10-20T12:53:36.881513Z",
     "iopub.status.idle": "2025-10-20T12:53:36.888594Z",
     "shell.execute_reply": "2025-10-20T12:53:36.887818Z"
    },
    "papermill": {
     "duration": 0.083173,
     "end_time": "2025-10-20T12:53:36.889713",
     "exception": false,
     "start_time": "2025-10-20T12:53:36.806540",
     "status": "completed"
    },
    "tags": []
   },
   "outputs": [
    {
     "name": "stdout",
     "output_type": "stream",
     "text": [
      "and\n"
     ]
    }
   ],
   "source": [
    "for word,index in tokenizer.word_index.items():\n",
    "    if index==position:\n",
    "        print(word)"
   ]
  },
  {
   "cell_type": "code",
   "execution_count": 27,
   "id": "3b3dcbbd",
   "metadata": {
    "execution": {
     "iopub.execute_input": "2025-10-20T12:53:37.022988Z",
     "iopub.status.busy": "2025-10-20T12:53:37.022317Z",
     "iopub.status.idle": "2025-10-20T12:53:37.025943Z",
     "shell.execute_reply": "2025-10-20T12:53:37.025205Z"
    },
    "papermill": {
     "duration": 0.072508,
     "end_time": "2025-10-20T12:53:37.027105",
     "exception": false,
     "start_time": "2025-10-20T12:53:36.954597",
     "status": "completed"
    },
    "tags": []
   },
   "outputs": [],
   "source": [
    "num_words=10"
   ]
  },
  {
   "cell_type": "code",
   "execution_count": 28,
   "id": "596b3973",
   "metadata": {
    "execution": {
     "iopub.execute_input": "2025-10-20T12:53:37.158164Z",
     "iopub.status.busy": "2025-10-20T12:53:37.157926Z",
     "iopub.status.idle": "2025-10-20T12:53:37.942394Z",
     "shell.execute_reply": "2025-10-20T12:53:37.941664Z"
    },
    "papermill": {
     "duration": 0.851748,
     "end_time": "2025-10-20T12:53:37.943740",
     "exception": false,
     "start_time": "2025-10-20T12:53:37.091992",
     "status": "completed"
    },
    "tags": []
   },
   "outputs": [
    {
     "name": "stdout",
     "output_type": "stream",
     "text": [
      "\u001b[1m1/1\u001b[0m \u001b[32m━━━━━━━━━━━━━━━━━━━━\u001b[0m\u001b[37m\u001b[0m \u001b[1m0s\u001b[0m 34ms/step\n",
      "a\n",
      "\u001b[1m1/1\u001b[0m \u001b[32m━━━━━━━━━━━━━━━━━━━━\u001b[0m\u001b[37m\u001b[0m \u001b[1m0s\u001b[0m 31ms/step\n",
      "little\n",
      "\u001b[1m1/1\u001b[0m \u001b[32m━━━━━━━━━━━━━━━━━━━━\u001b[0m\u001b[37m\u001b[0m \u001b[1m0s\u001b[0m 32ms/step\n",
      "and\n",
      "\u001b[1m1/1\u001b[0m \u001b[32m━━━━━━━━━━━━━━━━━━━━\u001b[0m\u001b[37m\u001b[0m \u001b[1m0s\u001b[0m 32ms/step\n",
      "i\n",
      "\u001b[1m1/1\u001b[0m \u001b[32m━━━━━━━━━━━━━━━━━━━━\u001b[0m\u001b[37m\u001b[0m \u001b[1m0s\u001b[0m 33ms/step\n",
      "don't\n",
      "\u001b[1m1/1\u001b[0m \u001b[32m━━━━━━━━━━━━━━━━━━━━\u001b[0m\u001b[37m\u001b[0m \u001b[1m0s\u001b[0m 32ms/step\n",
      "know\n",
      "\u001b[1m1/1\u001b[0m \u001b[32m━━━━━━━━━━━━━━━━━━━━\u001b[0m\u001b[37m\u001b[0m \u001b[1m0s\u001b[0m 32ms/step\n",
      "what\n",
      "\u001b[1m1/1\u001b[0m \u001b[32m━━━━━━━━━━━━━━━━━━━━\u001b[0m\u001b[37m\u001b[0m \u001b[1m0s\u001b[0m 31ms/step\n",
      "i\n",
      "\u001b[1m1/1\u001b[0m \u001b[32m━━━━━━━━━━━━━━━━━━━━\u001b[0m\u001b[37m\u001b[0m \u001b[1m0s\u001b[0m 33ms/step\n",
      "don't\n",
      "\u001b[1m1/1\u001b[0m \u001b[32m━━━━━━━━━━━━━━━━━━━━\u001b[0m\u001b[37m\u001b[0m \u001b[1m0s\u001b[0m 32ms/step\n",
      "know\n"
     ]
    }
   ],
   "source": [
    "# prediction multiple words\n",
    "text=\"i am\"\n",
    "for i in range(num_words):\n",
    "    # tokenize\n",
    "    tokenized_text=tokenizer.texts_to_sequences([text])[0]\n",
    "    # padding\n",
    "    padded_text=pad_sequences([tokenized_text],maxlen=max_len,padding='pre')\n",
    "    # predict\n",
    "    position=np.argmax(model.predict(padded_text))\n",
    "    for word,index in tokenizer.word_index.items():\n",
    "        if index==position:\n",
    "            text=text+\" \"+word\n",
    "            print(word)"
   ]
  },
  {
   "cell_type": "code",
   "execution_count": 29,
   "id": "af97651a",
   "metadata": {
    "execution": {
     "iopub.execute_input": "2025-10-20T12:53:38.080455Z",
     "iopub.status.busy": "2025-10-20T12:53:38.080163Z",
     "iopub.status.idle": "2025-10-20T12:53:38.084911Z",
     "shell.execute_reply": "2025-10-20T12:53:38.084159Z"
    },
    "papermill": {
     "duration": 0.07439,
     "end_time": "2025-10-20T12:53:38.086078",
     "exception": false,
     "start_time": "2025-10-20T12:53:38.011688",
     "status": "completed"
    },
    "tags": []
   },
   "outputs": [
    {
     "data": {
      "text/plain": [
       "\"i am a little and i don't know what i don't know\""
      ]
     },
     "execution_count": 29,
     "metadata": {},
     "output_type": "execute_result"
    }
   ],
   "source": [
    "text"
   ]
  },
  {
   "cell_type": "markdown",
   "id": "0c89e020",
   "metadata": {
    "papermill": {
     "duration": 0.065959,
     "end_time": "2025-10-20T12:53:38.219074",
     "exception": false,
     "start_time": "2025-10-20T12:53:38.153115",
     "status": "completed"
    },
    "tags": []
   },
   "source": [
    "now we can see the issue with n gram also"
   ]
  },
  {
   "cell_type": "code",
   "execution_count": null,
   "id": "a96f22ec",
   "metadata": {
    "papermill": {
     "duration": 0.066983,
     "end_time": "2025-10-20T12:53:38.353306",
     "exception": false,
     "start_time": "2025-10-20T12:53:38.286323",
     "status": "completed"
    },
    "tags": []
   },
   "outputs": [],
   "source": []
  }
 ],
 "metadata": {
  "kaggle": {
   "accelerator": "gpu",
   "dataSources": [],
   "dockerImageVersionId": 31154,
   "isGpuEnabled": true,
   "isInternetEnabled": true,
   "language": "python",
   "sourceType": "notebook"
  },
  "kernelspec": {
   "display_name": "Python 3",
   "language": "python",
   "name": "python3"
  },
  "language_info": {
   "codemirror_mode": {
    "name": "ipython",
    "version": 3
   },
   "file_extension": ".py",
   "mimetype": "text/x-python",
   "name": "python",
   "nbconvert_exporter": "python",
   "pygments_lexer": "ipython3",
   "version": "3.11.13"
  },
  "papermill": {
   "default_parameters": {},
   "duration": 163.898649,
   "end_time": "2025-10-20T12:53:41.842761",
   "environment_variables": {},
   "exception": null,
   "input_path": "__notebook__.ipynb",
   "output_path": "__notebook__.ipynb",
   "parameters": {},
   "start_time": "2025-10-20T12:50:57.944112",
   "version": "2.6.0"
  }
 },
 "nbformat": 4,
 "nbformat_minor": 5
}
