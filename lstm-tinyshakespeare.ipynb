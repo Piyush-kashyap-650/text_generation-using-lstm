{
 "cells": [
  {
   "cell_type": "code",
   "execution_count": 1,
   "id": "9265b9bf",
   "metadata": {
    "_cell_guid": "b1076dfc-b9ad-4769-8c92-a6c4dae69d19",
    "_uuid": "8f2839f25d086af736a60e9eeb907d3b93b6e0e5",
    "execution": {
     "iopub.execute_input": "2025-10-20T12:00:18.689732Z",
     "iopub.status.busy": "2025-10-20T12:00:18.689531Z",
     "iopub.status.idle": "2025-10-20T12:00:19.959934Z",
     "shell.execute_reply": "2025-10-20T12:00:19.959150Z"
    },
    "papermill": {
     "duration": 1.277816,
     "end_time": "2025-10-20T12:00:19.961546",
     "exception": false,
     "start_time": "2025-10-20T12:00:18.683730",
     "status": "completed"
    },
    "tags": []
   },
   "outputs": [],
   "source": [
    "# This Python 3 environment comes with many helpful analytics libraries installed\n",
    "# It is defined by the kaggle/python Docker image: https://github.com/kaggle/docker-python\n",
    "# For example, here's several helpful packages to load\n",
    "\n",
    "import numpy as np # linear algebra\n",
    "import pandas as pd # data processing, CSV file I/O (e.g. pd.read_csv)\n",
    "\n",
    "# Input data files are available in the read-only \"../input/\" directory\n",
    "# For example, running this (by clicking run or pressing Shift+Enter) will list all files under the input directory\n",
    "\n",
    "import os\n",
    "for dirname, _, filenames in os.walk('/kaggle/input'):\n",
    "    for filename in filenames:\n",
    "        print(os.path.join(dirname, filename))\n",
    "\n",
    "# You can write up to 20GB to the current directory (/kaggle/working/) that gets preserved as output when you create a version using \"Save & Run All\" \n",
    "# You can also write temporary files to /kaggle/temp/, but they won't be saved outside of the current session"
   ]
  },
  {
   "cell_type": "markdown",
   "id": "fb7acfb1",
   "metadata": {
    "papermill": {
     "duration": 0.00405,
     "end_time": "2025-10-20T12:00:19.970350",
     "exception": false,
     "start_time": "2025-10-20T12:00:19.966300",
     "status": "completed"
    },
    "tags": []
   },
   "source": [
    "# Data preprocessing"
   ]
  },
  {
   "cell_type": "code",
   "execution_count": 2,
   "id": "a36afae2",
   "metadata": {
    "execution": {
     "iopub.execute_input": "2025-10-20T12:00:19.979790Z",
     "iopub.status.busy": "2025-10-20T12:00:19.979127Z",
     "iopub.status.idle": "2025-10-20T12:00:20.442279Z",
     "shell.execute_reply": "2025-10-20T12:00:20.441189Z"
    },
    "papermill": {
     "duration": 0.469655,
     "end_time": "2025-10-20T12:00:20.444132",
     "exception": false,
     "start_time": "2025-10-20T12:00:19.974477",
     "status": "completed"
    },
    "tags": []
   },
   "outputs": [
    {
     "name": "stdout",
     "output_type": "stream",
     "text": [
      "Length of dataset: 1,115,394 characters\n",
      "First Citizen:\n",
      "Before we proceed any further, hear me speak.\n",
      "\n",
      "All:\n",
      "Speak, speak.\n",
      "\n",
      "First Citizen:\n",
      "You are all resolved rather to die than to famish?\n",
      "\n",
      "All:\n",
      "Resolved. resolved.\n",
      "\n",
      "First Citizen:\n",
      "First, you know Caius Marcius is chief enemy to the people.\n",
      "\n",
      "All:\n",
      "We know't, we know't.\n",
      "\n",
      "First Citizen:\n",
      "Let us kill him, and we'll have corn at our own price.\n",
      "Is't a verdict?\n",
      "\n",
      "All:\n",
      "No more talking on't; let it be done: away, away!\n",
      "\n",
      "Second Citizen:\n",
      "One word, good citizens.\n",
      "\n",
      "First Citizen:\n",
      "We are accounted poor\n"
     ]
    }
   ],
   "source": [
    "import requests\n",
    "url = \"https://raw.githubusercontent.com/karpathy/char-rnn/master/data/tinyshakespeare/input.txt\"\n",
    "filename = \"tinyshakespeare.txt\"\n",
    "\n",
    "r = requests.get(url)\n",
    "open(filename, \"w\", encoding=\"utf-8\").write(r.text)\n",
    "\n",
    "text = open(filename, \"r\", encoding=\"utf-8\").read()\n",
    "\n",
    "print(f\"Length of dataset: {len(text):,} characters\")\n",
    "print(text[:500]) \n"
   ]
  },
  {
   "cell_type": "code",
   "execution_count": 3,
   "id": "65485452",
   "metadata": {
    "execution": {
     "iopub.execute_input": "2025-10-20T12:00:20.455285Z",
     "iopub.status.busy": "2025-10-20T12:00:20.454849Z",
     "iopub.status.idle": "2025-10-20T12:00:32.922358Z",
     "shell.execute_reply": "2025-10-20T12:00:32.921660Z"
    },
    "papermill": {
     "duration": 12.473874,
     "end_time": "2025-10-20T12:00:32.923720",
     "exception": false,
     "start_time": "2025-10-20T12:00:20.449846",
     "status": "completed"
    },
    "tags": []
   },
   "outputs": [
    {
     "name": "stderr",
     "output_type": "stream",
     "text": [
      "2025-10-20 12:00:21.773081: E external/local_xla/xla/stream_executor/cuda/cuda_fft.cc:477] Unable to register cuFFT factory: Attempting to register factory for plugin cuFFT when one has already been registered\n",
      "WARNING: All log messages before absl::InitializeLog() is called are written to STDERR\n",
      "E0000 00:00:1760961621.944232      19 cuda_dnn.cc:8310] Unable to register cuDNN factory: Attempting to register factory for plugin cuDNN when one has already been registered\n",
      "E0000 00:00:1760961622.000043      19 cuda_blas.cc:1418] Unable to register cuBLAS factory: Attempting to register factory for plugin cuBLAS when one has already been registered\n"
     ]
    }
   ],
   "source": [
    "import tensorflow as tf\n",
    "from tensorflow.keras.preprocessing.text import Tokenizer"
   ]
  },
  {
   "cell_type": "code",
   "execution_count": 4,
   "id": "0b590de0",
   "metadata": {
    "execution": {
     "iopub.execute_input": "2025-10-20T12:00:32.934271Z",
     "iopub.status.busy": "2025-10-20T12:00:32.933344Z",
     "iopub.status.idle": "2025-10-20T12:00:32.936874Z",
     "shell.execute_reply": "2025-10-20T12:00:32.936369Z"
    },
    "papermill": {
     "duration": 0.009565,
     "end_time": "2025-10-20T12:00:32.937986",
     "exception": false,
     "start_time": "2025-10-20T12:00:32.928421",
     "status": "completed"
    },
    "tags": []
   },
   "outputs": [],
   "source": [
    "tokenizer=Tokenizer()"
   ]
  },
  {
   "cell_type": "code",
   "execution_count": 5,
   "id": "2b448611",
   "metadata": {
    "execution": {
     "iopub.execute_input": "2025-10-20T12:00:32.947355Z",
     "iopub.status.busy": "2025-10-20T12:00:32.947122Z",
     "iopub.status.idle": "2025-10-20T12:00:33.042092Z",
     "shell.execute_reply": "2025-10-20T12:00:33.041258Z"
    },
    "papermill": {
     "duration": 0.101217,
     "end_time": "2025-10-20T12:00:33.043577",
     "exception": false,
     "start_time": "2025-10-20T12:00:32.942360",
     "status": "completed"
    },
    "tags": []
   },
   "outputs": [],
   "source": [
    "tokenizer.fit_on_texts([text])"
   ]
  },
  {
   "cell_type": "code",
   "execution_count": 6,
   "id": "4f873589",
   "metadata": {
    "execution": {
     "iopub.execute_input": "2025-10-20T12:00:33.053624Z",
     "iopub.status.busy": "2025-10-20T12:00:33.053383Z",
     "iopub.status.idle": "2025-10-20T12:00:33.068677Z",
     "shell.execute_reply": "2025-10-20T12:00:33.067944Z"
    },
    "papermill": {
     "duration": 0.021287,
     "end_time": "2025-10-20T12:00:33.069815",
     "exception": false,
     "start_time": "2025-10-20T12:00:33.048528",
     "status": "completed"
    },
    "tags": []
   },
   "outputs": [
    {
     "data": {
      "text/plain": [
       "{'the': 1,\n",
       " 'and': 2,\n",
       " 'to': 3,\n",
       " 'i': 4,\n",
       " 'of': 5,\n",
       " 'you': 6,\n",
       " 'my': 7,\n",
       " 'a': 8,\n",
       " 'that': 9,\n",
       " 'in': 10,\n",
       " 'is': 11,\n",
       " 'not': 12,\n",
       " 'for': 13,\n",
       " 'with': 14,\n",
       " 'me': 15,\n",
       " 'it': 16,\n",
       " 'be': 17,\n",
       " 'your': 18,\n",
       " 'his': 19,\n",
       " 'but': 20,\n",
       " 'this': 21,\n",
       " 'he': 22,\n",
       " 'have': 23,\n",
       " 'as': 24,\n",
       " 'thou': 25,\n",
       " 'him': 26,\n",
       " 'so': 27,\n",
       " 'what': 28,\n",
       " 'thy': 29,\n",
       " 'will': 30,\n",
       " 'by': 31,\n",
       " 'no': 32,\n",
       " 'all': 33,\n",
       " 'king': 34,\n",
       " 'we': 35,\n",
       " 'shall': 36,\n",
       " 'her': 37,\n",
       " 'if': 38,\n",
       " 'our': 39,\n",
       " 'are': 40,\n",
       " 'do': 41,\n",
       " 'thee': 42,\n",
       " 'lord': 43,\n",
       " 'now': 44,\n",
       " 'on': 45,\n",
       " 'good': 46,\n",
       " 'from': 47,\n",
       " 'come': 48,\n",
       " 'sir': 49,\n",
       " 'or': 50,\n",
       " 'which': 51,\n",
       " 'more': 52,\n",
       " 'then': 53,\n",
       " 'at': 54,\n",
       " 'o': 55,\n",
       " 'would': 56,\n",
       " 'was': 57,\n",
       " 'they': 58,\n",
       " 'how': 59,\n",
       " 'well': 60,\n",
       " 'here': 61,\n",
       " 'she': 62,\n",
       " 'than': 63,\n",
       " 'their': 64,\n",
       " 'them': 65,\n",
       " 'duke': 66,\n",
       " 'am': 67,\n",
       " 'hath': 68,\n",
       " 'say': 69,\n",
       " 'let': 70,\n",
       " 'when': 71,\n",
       " 'one': 72,\n",
       " \"i'll\": 73,\n",
       " 'go': 74,\n",
       " 'love': 75,\n",
       " 'were': 76,\n",
       " 'may': 77,\n",
       " 'us': 78,\n",
       " 'make': 79,\n",
       " 'like': 80,\n",
       " 'upon': 81,\n",
       " 'yet': 82,\n",
       " 'richard': 83,\n",
       " 'there': 84,\n",
       " 'must': 85,\n",
       " 'should': 86,\n",
       " 'an': 87,\n",
       " 'first': 88,\n",
       " 'queen': 89,\n",
       " 'why': 90,\n",
       " 'know': 91,\n",
       " 'had': 92,\n",
       " 'man': 93,\n",
       " 'did': 94,\n",
       " \"'tis\": 95,\n",
       " 'where': 96,\n",
       " 'see': 97,\n",
       " 'some': 98,\n",
       " 'too': 99,\n",
       " 'death': 100,\n",
       " 'give': 101,\n",
       " 'speak': 102,\n",
       " 'these': 103,\n",
       " 'who': 104,\n",
       " 'take': 105,\n",
       " 'edward': 106,\n",
       " 'up': 107,\n",
       " 'york': 108,\n",
       " 'mine': 109,\n",
       " 'out': 110,\n",
       " 'such': 111,\n",
       " 'henry': 112,\n",
       " 'romeo': 113,\n",
       " 'can': 114,\n",
       " 'time': 115,\n",
       " 'father': 116,\n",
       " 'tell': 117,\n",
       " 'gloucester': 118,\n",
       " 'most': 119,\n",
       " 'lady': 120,\n",
       " 'son': 121,\n",
       " 'nor': 122,\n",
       " 'god': 123,\n",
       " 'life': 124,\n",
       " 'vincentio': 125,\n",
       " 'made': 126,\n",
       " 'hear': 127,\n",
       " 'day': 128,\n",
       " \"'\": 129,\n",
       " 'heart': 130,\n",
       " 'art': 131,\n",
       " 'much': 132,\n",
       " 'think': 133,\n",
       " 'warwick': 134,\n",
       " 'never': 135,\n",
       " 'brother': 136,\n",
       " 'doth': 137,\n",
       " 'true': 138,\n",
       " 'before': 139,\n",
       " 'cannot': 140,\n",
       " 'both': 141,\n",
       " 'blood': 142,\n",
       " 'any': 143,\n",
       " 'thus': 144,\n",
       " 'petruchio': 145,\n",
       " 'being': 146,\n",
       " 'ay': 147,\n",
       " 'away': 148,\n",
       " 'men': 149,\n",
       " 'name': 150,\n",
       " 'been': 151,\n",
       " 'fair': 152,\n",
       " 'coriolanus': 153,\n",
       " 'hand': 154,\n",
       " 'look': 155,\n",
       " 'noble': 156,\n",
       " 'again': 157,\n",
       " 'menenius': 158,\n",
       " 'very': 159,\n",
       " 'night': 160,\n",
       " 'pray': 161,\n",
       " 'own': 162,\n",
       " 'sweet': 163,\n",
       " 'done': 164,\n",
       " 'juliet': 165,\n",
       " 'second': 166,\n",
       " 'myself': 167,\n",
       " 'great': 168,\n",
       " 'leave': 169,\n",
       " 'therefore': 170,\n",
       " 'against': 171,\n",
       " 'though': 172,\n",
       " 'poor': 173,\n",
       " 'honour': 174,\n",
       " 'down': 175,\n",
       " 'hast': 176,\n",
       " 'prince': 177,\n",
       " 'way': 178,\n",
       " 'angelo': 179,\n",
       " 'fear': 180,\n",
       " 'old': 181,\n",
       " 'nay': 182,\n",
       " 'heaven': 183,\n",
       " 'till': 184,\n",
       " 'call': 185,\n",
       " 'world': 186,\n",
       " 'eyes': 187,\n",
       " 'nurse': 188,\n",
       " 'live': 189,\n",
       " 'clarence': 190,\n",
       " 'stay': 191,\n",
       " 'bear': 192,\n",
       " 'many': 193,\n",
       " 'comes': 194,\n",
       " 'house': 195,\n",
       " 'wife': 196,\n",
       " 'dead': 197,\n",
       " 'grace': 198,\n",
       " 'die': 199,\n",
       " 'even': 200,\n",
       " 'stand': 201,\n",
       " 'ever': 202,\n",
       " 'nothing': 203,\n",
       " 'iii': 204,\n",
       " 'whose': 205,\n",
       " 'other': 206,\n",
       " 'bolingbroke': 207,\n",
       " 'head': 208,\n",
       " 'isabella': 209,\n",
       " 'friends': 210,\n",
       " 'leontes': 211,\n",
       " 'friar': 212,\n",
       " 'peace': 213,\n",
       " 'buckingham': 214,\n",
       " 'unto': 215,\n",
       " 'those': 216,\n",
       " 'better': 217,\n",
       " 'gone': 218,\n",
       " 'word': 219,\n",
       " 'off': 220,\n",
       " 'still': 221,\n",
       " 'mother': 222,\n",
       " 'hence': 223,\n",
       " 'tranio': 224,\n",
       " 'two': 225,\n",
       " 'master': 226,\n",
       " 'could': 227,\n",
       " 'since': 228,\n",
       " 'news': 229,\n",
       " 'lucio': 230,\n",
       " 'marcius': 231,\n",
       " 'little': 232,\n",
       " 'gentleman': 233,\n",
       " 'sicinius': 234,\n",
       " 'daughter': 235,\n",
       " 'soul': 236,\n",
       " 'long': 237,\n",
       " 'thing': 238,\n",
       " 'lords': 239,\n",
       " 'once': 240,\n",
       " 'put': 241,\n",
       " 'whom': 242,\n",
       " 'himself': 243,\n",
       " 'face': 244,\n",
       " \"o'\": 245,\n",
       " 'set': 246,\n",
       " 'thine': 247,\n",
       " 'margaret': 248,\n",
       " 'camillo': 249,\n",
       " 'ere': 250,\n",
       " 'else': 251,\n",
       " 'iv': 252,\n",
       " 'capulet': 253,\n",
       " 'words': 254,\n",
       " 'elizabeth': 255,\n",
       " 'none': 256,\n",
       " 'katharina': 257,\n",
       " 'might': 258,\n",
       " 'rest': 259,\n",
       " 'tongue': 260,\n",
       " 'best': 261,\n",
       " 'crown': 262,\n",
       " 'power': 263,\n",
       " 'gentle': 264,\n",
       " 'young': 265,\n",
       " 'dear': 266,\n",
       " 'madam': 267,\n",
       " 'part': 268,\n",
       " 'citizen': 269,\n",
       " 'bring': 270,\n",
       " 'keep': 271,\n",
       " 'vi': 272,\n",
       " 'farewell': 273,\n",
       " 'hope': 274,\n",
       " 'right': 275,\n",
       " 'ii': 276,\n",
       " 'forth': 277,\n",
       " 'place': 278,\n",
       " 'find': 279,\n",
       " 'every': 280,\n",
       " 'said': 281,\n",
       " 'home': 282,\n",
       " 'pardon': 283,\n",
       " 'lucentio': 284,\n",
       " 'came': 285,\n",
       " 'back': 286,\n",
       " 'bid': 287,\n",
       " 'earth': 288,\n",
       " 'hastings': 289,\n",
       " 'hortensio': 290,\n",
       " 'hold': 291,\n",
       " 'hands': 292,\n",
       " 'into': 293,\n",
       " 'brutus': 294,\n",
       " 'welcome': 295,\n",
       " 'cause': 296,\n",
       " 'about': 297,\n",
       " 'boy': 298,\n",
       " 'tears': 299,\n",
       " 'dost': 300,\n",
       " 'baptista': 301,\n",
       " 'please': 302,\n",
       " 'rome': 303,\n",
       " \"that's\": 304,\n",
       " 'people': 305,\n",
       " \"i'\": 306,\n",
       " 'after': 307,\n",
       " 'provost': 308,\n",
       " 'help': 309,\n",
       " 'full': 310,\n",
       " 'indeed': 311,\n",
       " 'heard': 312,\n",
       " 'makes': 313,\n",
       " 'thought': 314,\n",
       " 'cousin': 315,\n",
       " 'show': 316,\n",
       " 'mind': 317,\n",
       " 'husband': 318,\n",
       " \"let's\": 319,\n",
       " 'morrow': 320,\n",
       " 'escalus': 321,\n",
       " 'grumio': 322,\n",
       " 'has': 323,\n",
       " 'cominius': 324,\n",
       " 'mean': 325,\n",
       " 'wilt': 326,\n",
       " 'marry': 327,\n",
       " 'pompey': 328,\n",
       " 'friend': 329,\n",
       " \"what's\": 330,\n",
       " 'shame': 331,\n",
       " 'mistress': 332,\n",
       " 'state': 333,\n",
       " 'servant': 334,\n",
       " 'while': 335,\n",
       " 'within': 336,\n",
       " 'gremio': 337,\n",
       " 'clifford': 338,\n",
       " \"he's\": 339,\n",
       " 'eye': 340,\n",
       " 'bed': 341,\n",
       " 'hither': 342,\n",
       " 'gracious': 343,\n",
       " 'thousand': 344,\n",
       " 'only': 345,\n",
       " 'aufidius': 346,\n",
       " 'three': 347,\n",
       " 'last': 348,\n",
       " 'far': 349,\n",
       " 'rather': 350,\n",
       " 'answer': 351,\n",
       " 'lie': 352,\n",
       " 'prove': 353,\n",
       " 'royal': 354,\n",
       " 'northumberland': 355,\n",
       " 'duchess': 356,\n",
       " 'third': 357,\n",
       " 'mercutio': 358,\n",
       " 'fellow': 359,\n",
       " 'another': 360,\n",
       " 'child': 361,\n",
       " 'paulina': 362,\n",
       " 'meet': 363,\n",
       " 'claudio': 364,\n",
       " 'murderer': 365,\n",
       " 'use': 366,\n",
       " 'shalt': 367,\n",
       " 'sorrow': 368,\n",
       " \"we'll\": 369,\n",
       " 'lay': 370,\n",
       " 'joy': 371,\n",
       " 'lies': 372,\n",
       " 'comfort': 373,\n",
       " 'grief': 374,\n",
       " 'sun': 375,\n",
       " 'beseech': 376,\n",
       " 'benvolio': 377,\n",
       " 'polixenes': 378,\n",
       " 'war': 379,\n",
       " 'less': 380,\n",
       " 'autolycus': 381,\n",
       " 'end': 382,\n",
       " 'hour': 383,\n",
       " \"father's\": 384,\n",
       " 'fortune': 385,\n",
       " 'law': 386,\n",
       " 'happy': 387,\n",
       " 'enough': 388,\n",
       " 'matter': 389,\n",
       " 'grave': 390,\n",
       " 'thank': 391,\n",
       " 'light': 392,\n",
       " 'sea': 393,\n",
       " 'holy': 394,\n",
       " 'montague': 395,\n",
       " 'business': 396,\n",
       " 'arms': 397,\n",
       " 'things': 398,\n",
       " 'hate': 399,\n",
       " 'years': 400,\n",
       " 'without': 401,\n",
       " 'truth': 402,\n",
       " 'lives': 403,\n",
       " 'clown': 404,\n",
       " 'prospero': 405,\n",
       " 'body': 406,\n",
       " 'kind': 407,\n",
       " 'faith': 408,\n",
       " 'fall': 409,\n",
       " 'pity': 410,\n",
       " 'new': 411,\n",
       " 'nature': 412,\n",
       " \"there's\": 413,\n",
       " 'get': 414,\n",
       " 'swear': 415,\n",
       " 'save': 416,\n",
       " 'false': 417,\n",
       " 'send': 418,\n",
       " 'turn': 419,\n",
       " 'believe': 420,\n",
       " 'ah': 421,\n",
       " 'tybalt': 422,\n",
       " 'kate': 423,\n",
       " 'gods': 424,\n",
       " 'fight': 425,\n",
       " 'saw': 426,\n",
       " 'bianca': 427,\n",
       " 'follow': 428,\n",
       " 'villain': 429,\n",
       " 'high': 430,\n",
       " 'means': 431,\n",
       " 'present': 432,\n",
       " 'yours': 433,\n",
       " 'yourself': 434,\n",
       " 'bloody': 435,\n",
       " 'does': 436,\n",
       " 'horse': 437,\n",
       " 'looks': 438,\n",
       " 'sleep': 439,\n",
       " 'talk': 440,\n",
       " 'foul': 441,\n",
       " 'uncle': 442,\n",
       " 'proud': 443,\n",
       " \"ne'er\": 444,\n",
       " 'volumnia': 445,\n",
       " 'left': 446,\n",
       " 'land': 447,\n",
       " 'anne': 448,\n",
       " 'aumerle': 449,\n",
       " 'city': 450,\n",
       " 'fire': 451,\n",
       " 'play': 452,\n",
       " 'mercy': 453,\n",
       " 'woman': 454,\n",
       " 'laurence': 455,\n",
       " 'need': 456,\n",
       " 'worthy': 457,\n",
       " 'sit': 458,\n",
       " 'told': 459,\n",
       " 'servingman': 460,\n",
       " 'messenger': 461,\n",
       " 'wish': 462,\n",
       " 'doubt': 463,\n",
       " 'shepherd': 464,\n",
       " 'maid': 465,\n",
       " 'because': 466,\n",
       " 'justice': 467,\n",
       " 'under': 468,\n",
       " 'sword': 469,\n",
       " 'break': 470,\n",
       " 'together': 471,\n",
       " 'ill': 472,\n",
       " 'breath': 473,\n",
       " 'thyself': 474,\n",
       " 'gaunt': 475,\n",
       " 'either': 476,\n",
       " 'through': 477,\n",
       " 'seen': 478,\n",
       " 'sister': 479,\n",
       " 'majesty': 480,\n",
       " 'woe': 481,\n",
       " 'john': 482,\n",
       " 'biondello': 483,\n",
       " 'care': 484,\n",
       " 'days': 485,\n",
       " 'children': 486,\n",
       " 'born': 487,\n",
       " \"'twas\": 488,\n",
       " 'sound': 489,\n",
       " \"here's\": 490,\n",
       " 'sovereign': 491,\n",
       " 'heavy': 492,\n",
       " 'catesby': 493,\n",
       " \"o'er\": 494,\n",
       " 'ears': 495,\n",
       " 'haste': 496,\n",
       " 'gentlemen': 497,\n",
       " 'times': 498,\n",
       " 'lost': 499,\n",
       " 'wrong': 500,\n",
       " 'grey': 501,\n",
       " 'kill': 502,\n",
       " 'content': 503,\n",
       " 'purpose': 504,\n",
       " 'says': 505,\n",
       " 'mark': 506,\n",
       " 'ready': 507,\n",
       " 'foot': 508,\n",
       " 'fly': 509,\n",
       " 'age': 510,\n",
       " 'traitor': 511,\n",
       " 'oath': 512,\n",
       " 'canst': 513,\n",
       " \"edward's\": 514,\n",
       " 'liege': 515,\n",
       " 'norfolk': 516,\n",
       " 'paris': 517,\n",
       " 'signior': 518,\n",
       " 'florizel': 519,\n",
       " 'each': 520,\n",
       " 'strange': 521,\n",
       " 'alone': 522,\n",
       " 'over': 523,\n",
       " 'warrant': 524,\n",
       " 'late': 525,\n",
       " 'reason': 526,\n",
       " 'twenty': 527,\n",
       " 'weep': 528,\n",
       " 'alas': 529,\n",
       " 'hermione': 530,\n",
       " 'rivers': 531,\n",
       " 'cry': 532,\n",
       " 'sent': 533,\n",
       " 'brought': 534,\n",
       " 'slain': 535,\n",
       " 'stands': 536,\n",
       " 'free': 537,\n",
       " 'ground': 538,\n",
       " 'cold': 539,\n",
       " 'married': 540,\n",
       " 'kiss': 541,\n",
       " 'strike': 542,\n",
       " 'tender': 543,\n",
       " 'found': 544,\n",
       " 'seem': 545,\n",
       " 'thoughts': 546,\n",
       " 'spirit': 547,\n",
       " 'deep': 548,\n",
       " 'knows': 549,\n",
       " 'having': 550,\n",
       " 'service': 551,\n",
       " 'straight': 552,\n",
       " 'near': 553,\n",
       " 'loss': 554,\n",
       " 'lest': 555,\n",
       " 'mad': 556,\n",
       " 'didst': 557,\n",
       " 'france': 558,\n",
       " 'report': 559,\n",
       " 'remember': 560,\n",
       " 'thanks': 561,\n",
       " 'ye': 562,\n",
       " 'sin': 563,\n",
       " 'person': 564,\n",
       " 'return': 565,\n",
       " 'hours': 566,\n",
       " 'soon': 567,\n",
       " 'sight': 568,\n",
       " 'sebastian': 569,\n",
       " 'common': 570,\n",
       " 'general': 571,\n",
       " 'senator': 572,\n",
       " 'half': 573,\n",
       " 'lose': 574,\n",
       " 'fool': 575,\n",
       " 'charge': 576,\n",
       " 'desire': 577,\n",
       " 'widow': 578,\n",
       " 'richmond': 579,\n",
       " 'enemy': 580,\n",
       " 'yield': 581,\n",
       " 'fie': 582,\n",
       " 'air': 583,\n",
       " \"'twere\": 584,\n",
       " 'itself': 585,\n",
       " 'deed': 586,\n",
       " 'sure': 587,\n",
       " 'women': 588,\n",
       " 'saint': 589,\n",
       " \"god's\": 590,\n",
       " 'arm': 591,\n",
       " \"you'll\": 592,\n",
       " 'fault': 593,\n",
       " 'prithee': 594,\n",
       " 'yea': 595,\n",
       " 'prison': 596,\n",
       " 'duty': 597,\n",
       " 'side': 598,\n",
       " 'honest': 599,\n",
       " 'ten': 600,\n",
       " 'patience': 601,\n",
       " 'trust': 602,\n",
       " 'known': 603,\n",
       " 'bound': 604,\n",
       " 'command': 605,\n",
       " 'past': 606,\n",
       " 'cut': 607,\n",
       " 'unless': 608,\n",
       " \"she's\": 609,\n",
       " 'heir': 610,\n",
       " 'antonio': 611,\n",
       " 'citizens': 612,\n",
       " 'tale': 613,\n",
       " 'court': 614,\n",
       " 'pale': 615,\n",
       " 'yes': 616,\n",
       " 'heavens': 617,\n",
       " 'beat': 618,\n",
       " 'work': 619,\n",
       " 'hearts': 620,\n",
       " 'dare': 621,\n",
       " 'something': 622,\n",
       " 'wear': 623,\n",
       " 'ear': 624,\n",
       " 'fearful': 625,\n",
       " 'beauty': 626,\n",
       " 'oxford': 627,\n",
       " 'marriage': 628,\n",
       " 'lewis': 629,\n",
       " 'revenge': 630,\n",
       " 'company': 631,\n",
       " 'hark': 632,\n",
       " 'open': 633,\n",
       " 'hell': 634,\n",
       " 'serve': 635,\n",
       " 'draw': 636,\n",
       " 'loving': 637,\n",
       " 'voices': 638,\n",
       " 'read': 639,\n",
       " 'withal': 640,\n",
       " 'gonzalo': 641,\n",
       " \"is't\": 642,\n",
       " 'virtue': 643,\n",
       " 'run': 644,\n",
       " 'point': 645,\n",
       " 'change': 646,\n",
       " 'worse': 647,\n",
       " 'field': 648,\n",
       " 'brave': 649,\n",
       " 'fast': 650,\n",
       " 'neither': 651,\n",
       " 'sirrah': 652,\n",
       " 'next': 653,\n",
       " 'become': 654,\n",
       " 'country': 655,\n",
       " 'course': 656,\n",
       " 'youth': 657,\n",
       " 'seek': 658,\n",
       " 'methinks': 659,\n",
       " 'same': 660,\n",
       " 'ask': 661,\n",
       " 'pleasure': 662,\n",
       " 'sake': 663,\n",
       " 'counsel': 664,\n",
       " 'knew': 665,\n",
       " 'lancaster': 666,\n",
       " \"king's\": 667,\n",
       " 'further': 668,\n",
       " 'enemies': 669,\n",
       " 'strength': 670,\n",
       " 'met': 671,\n",
       " 'gates': 672,\n",
       " 'wind': 673,\n",
       " 'souls': 674,\n",
       " 'took': 675,\n",
       " 'given': 676,\n",
       " 'merry': 677,\n",
       " \"brother's\": 678,\n",
       " 'coming': 679,\n",
       " 'behold': 680,\n",
       " 'post': 681,\n",
       " 'tower': 682,\n",
       " 'miranda': 683,\n",
       " 'rich': 684,\n",
       " 'confess': 685,\n",
       " 'themselves': 686,\n",
       " 'ho': 687,\n",
       " 'ha': 688,\n",
       " 'gave': 689,\n",
       " 'lips': 690,\n",
       " 'sad': 691,\n",
       " 'elbow': 692,\n",
       " 'peter': 693,\n",
       " 'loved': 694,\n",
       " 'already': 695,\n",
       " 'curse': 696,\n",
       " 'along': 697,\n",
       " 'sworn': 698,\n",
       " 'between': 699,\n",
       " 'pass': 700,\n",
       " 'black': 701,\n",
       " 'title': 702,\n",
       " \"banish'd\": 703,\n",
       " 'just': 704,\n",
       " 'soft': 705,\n",
       " 'bold': 706,\n",
       " 'goes': 707,\n",
       " 'issue': 708,\n",
       " 'sons': 709,\n",
       " 'pluck': 710,\n",
       " 'spoke': 711,\n",
       " 'whilst': 712,\n",
       " 'bad': 713,\n",
       " 'loves': 714,\n",
       " 'office': 715,\n",
       " 'water': 716,\n",
       " 'bosom': 717,\n",
       " 'george': 718,\n",
       " 'dream': 719,\n",
       " 'england': 720,\n",
       " 'green': 721,\n",
       " 'thomas': 722,\n",
       " 'perdita': 723,\n",
       " 'strong': 724,\n",
       " 'soldier': 725,\n",
       " 'tribunes': 726,\n",
       " 'jest': 727,\n",
       " 'fetch': 728,\n",
       " 'hadst': 729,\n",
       " 'learn': 730,\n",
       " 'officer': 731,\n",
       " 'soldiers': 732,\n",
       " 'stanley': 733,\n",
       " 'subject': 734,\n",
       " 'fit': 735,\n",
       " 'thence': 736,\n",
       " \"look'd\": 737,\n",
       " 'foe': 738,\n",
       " 'dangerous': 739,\n",
       " 'wounds': 740,\n",
       " 'often': 741,\n",
       " 'grant': 742,\n",
       " 'forget': 743,\n",
       " 'suit': 744,\n",
       " 'voice': 745,\n",
       " 'entreat': 746,\n",
       " 'wit': 747,\n",
       " 'presence': 748,\n",
       " 'speed': 749,\n",
       " 'sly': 750,\n",
       " 'wars': 751,\n",
       " 'attend': 752,\n",
       " 'wherein': 753,\n",
       " 'hard': 754,\n",
       " 'wert': 755,\n",
       " 'request': 756,\n",
       " 'hot': 757,\n",
       " 'worth': 758,\n",
       " 'gold': 759,\n",
       " 'rage': 760,\n",
       " 'quarrel': 761,\n",
       " 'throne': 762,\n",
       " 'seems': 763,\n",
       " 'mighty': 764,\n",
       " 'order': 765,\n",
       " 'mariana': 766,\n",
       " 'deeds': 767,\n",
       " 'appear': 768,\n",
       " 'thither': 769,\n",
       " 'win': 770,\n",
       " 'battle': 771,\n",
       " 'five': 772,\n",
       " 'throw': 773,\n",
       " 'promise': 774,\n",
       " 'lartius': 775,\n",
       " 'got': 776,\n",
       " 'want': 777,\n",
       " 'brief': 778,\n",
       " 'buy': 779,\n",
       " 'march': 780,\n",
       " 'deny': 781,\n",
       " 'consent': 782,\n",
       " 'begin': 783,\n",
       " 'princely': 784,\n",
       " 'morning': 785,\n",
       " \"call'd\": 786,\n",
       " 'case': 787,\n",
       " 'highness': 788,\n",
       " 'kings': 789,\n",
       " 'london': 790,\n",
       " 'somerset': 791,\n",
       " 'faults': 792,\n",
       " 'pretty': 793,\n",
       " 'feel': 794,\n",
       " \"to't\": 795,\n",
       " 'wise': 796,\n",
       " \"man's\": 797,\n",
       " 'almost': 798,\n",
       " 'valiant': 799,\n",
       " 'wonder': 800,\n",
       " 'whence': 801,\n",
       " 'prayers': 802,\n",
       " 'above': 803,\n",
       " 'harm': 804,\n",
       " 'devil': 805,\n",
       " 'consul': 806,\n",
       " 'ancient': 807,\n",
       " 'breast': 808,\n",
       " 'measure': 809,\n",
       " 'heads': 810,\n",
       " 'speech': 811,\n",
       " 'presently': 812,\n",
       " 'move': 813,\n",
       " 'watch': 814,\n",
       " \"kill'd\": 815,\n",
       " 'ratcliff': 816,\n",
       " 'earl': 817,\n",
       " 'roman': 818,\n",
       " 'alack': 819,\n",
       " 'hang': 820,\n",
       " 'moon': 821,\n",
       " 'whether': 822,\n",
       " 'slave': 823,\n",
       " \"e'er\": 824,\n",
       " 'least': 825,\n",
       " 'self': 826,\n",
       " 'mortal': 827,\n",
       " 'towards': 828,\n",
       " 'poison': 829,\n",
       " 'knock': 830,\n",
       " 'forward': 831,\n",
       " 'murder': 832,\n",
       " 'keeper': 833,\n",
       " 'mayor': 834,\n",
       " 'mowbray': 835,\n",
       " '3': 836,\n",
       " \"'em\": 837,\n",
       " \"'t\": 838,\n",
       " 'awhile': 839,\n",
       " 'hearing': 840,\n",
       " 'virgilia': 841,\n",
       " 'base': 842,\n",
       " 'doing': 843,\n",
       " 'wouldst': 844,\n",
       " 'touch': 845,\n",
       " 'flesh': 846,\n",
       " 'virtuous': 847,\n",
       " 'anon': 848,\n",
       " 'book': 849,\n",
       " 'weeping': 850,\n",
       " 'witness': 851,\n",
       " 'living': 852,\n",
       " 'close': 853,\n",
       " 'hereford': 854,\n",
       " 'music': 855,\n",
       " 'curtis': 856,\n",
       " 'ariel': 857,\n",
       " 'worst': 858,\n",
       " 'greater': 859,\n",
       " 'behind': 860,\n",
       " 'besides': 861,\n",
       " 'whither': 862,\n",
       " 'chance': 863,\n",
       " 'town': 864,\n",
       " 'wast': 865,\n",
       " 'breathe': 866,\n",
       " 'quickly': 867,\n",
       " 'pay': 868,\n",
       " 'grow': 869,\n",
       " 'toward': 870,\n",
       " 'chamber': 871,\n",
       " 'letters': 872,\n",
       " \"do't\": 873,\n",
       " 'blows': 874,\n",
       " 'wherefore': 875,\n",
       " 'deserved': 876,\n",
       " 'ourselves': 877,\n",
       " 'patient': 878,\n",
       " 'goodly': 879,\n",
       " 'lawful': 880,\n",
       " 'guilty': 881,\n",
       " 'antigonus': 882,\n",
       " \"on't\": 883,\n",
       " 'small': 884,\n",
       " 'note': 885,\n",
       " 'offence': 886,\n",
       " 'four': 887,\n",
       " 'needs': 888,\n",
       " 'stir': 889,\n",
       " 'knee': 890,\n",
       " 'tear': 891,\n",
       " 'shows': 892,\n",
       " 'feast': 893,\n",
       " \"ta'en\": 894,\n",
       " 'truly': 895,\n",
       " 'beg': 896,\n",
       " 'angry': 897,\n",
       " 'fled': 898,\n",
       " 'mouth': 899,\n",
       " 'laid': 900,\n",
       " 'worship': 901,\n",
       " 'longer': 902,\n",
       " 'year': 903,\n",
       " \"henry's\": 904,\n",
       " 'golden': 905,\n",
       " 'derby': 906,\n",
       " \"england's\": 907,\n",
       " 'exeter': 908,\n",
       " 'bawd': 909,\n",
       " 'pedant': 910,\n",
       " 'speaks': 911,\n",
       " 'aside': 912,\n",
       " 'defend': 913,\n",
       " 'held': 914,\n",
       " 'action': 915,\n",
       " 'won': 916,\n",
       " \"he'll\": 917,\n",
       " 'neck': 918,\n",
       " 'ladies': 919,\n",
       " 'sudden': 920,\n",
       " 'shed': 921,\n",
       " 'short': 922,\n",
       " \"in't\": 923,\n",
       " 'subjects': 924,\n",
       " 'white': 925,\n",
       " 'dry': 926,\n",
       " 'slew': 927,\n",
       " 'sense': 928,\n",
       " 'liberty': 929,\n",
       " 'amen': 930,\n",
       " 'piece': 931,\n",
       " 'clouds': 932,\n",
       " 'plain': 933,\n",
       " 'choose': 934,\n",
       " 'enter': 935,\n",
       " 'rough': 936,\n",
       " 'banishment': 937,\n",
       " 'vow': 938,\n",
       " 'until': 939,\n",
       " 'bohemia': 940,\n",
       " 'isabel': 941,\n",
       " 'padua': 942,\n",
       " 'masters': 943,\n",
       " 'act': 944,\n",
       " 'deliver': 945,\n",
       " 'sick': 946,\n",
       " 'lead': 947,\n",
       " 'broke': 948,\n",
       " 'letter': 949,\n",
       " 'visit': 950,\n",
       " 'hundred': 951,\n",
       " 'blow': 952,\n",
       " 'noise': 953,\n",
       " 'certain': 954,\n",
       " 'hide': 955,\n",
       " 'prisoner': 956,\n",
       " 'forgot': 957,\n",
       " 'victory': 958,\n",
       " 'lived': 959,\n",
       " 'stood': 960,\n",
       " 'oft': 961,\n",
       " 'conscience': 962,\n",
       " 'bears': 963,\n",
       " 'bones': 964,\n",
       " 'leisure': 965,\n",
       " 'plantagenet': 966,\n",
       " 'kingdom': 967,\n",
       " 'bride': 968,\n",
       " 'proceed': 969,\n",
       " 'dog': 970,\n",
       " 'yourselves': 971,\n",
       " 'knees': 972,\n",
       " 'seat': 973,\n",
       " 'rise': 974,\n",
       " \"where's\": 975,\n",
       " 'glad': 976,\n",
       " 'womb': 977,\n",
       " 'danger': 978,\n",
       " 'fine': 979,\n",
       " 'shake': 980,\n",
       " \"country's\": 981,\n",
       " 'wash': 982,\n",
       " 'weary': 983,\n",
       " 'pride': 984,\n",
       " 'drink': 985,\n",
       " 'seven': 986,\n",
       " 'knowledge': 987,\n",
       " \"'twixt\": 988,\n",
       " 'adieu': 989,\n",
       " 'twice': 990,\n",
       " 'kept': 991,\n",
       " 'commend': 992,\n",
       " 'forbid': 993,\n",
       " 'teach': 994,\n",
       " 'blessed': 995,\n",
       " 'weak': 996,\n",
       " 'fresh': 997,\n",
       " 'herself': 998,\n",
       " 'glory': 999,\n",
       " 'few': 1000,\n",
       " ...}"
      ]
     },
     "execution_count": 6,
     "metadata": {},
     "output_type": "execute_result"
    }
   ],
   "source": [
    "tokenizer.word_index"
   ]
  },
  {
   "cell_type": "code",
   "execution_count": 7,
   "id": "25746bf6",
   "metadata": {
    "execution": {
     "iopub.execute_input": "2025-10-20T12:00:33.080605Z",
     "iopub.status.busy": "2025-10-20T12:00:33.080045Z",
     "iopub.status.idle": "2025-10-20T12:00:33.084554Z",
     "shell.execute_reply": "2025-10-20T12:00:33.083865Z"
    },
    "papermill": {
     "duration": 0.010871,
     "end_time": "2025-10-20T12:00:33.085667",
     "exception": false,
     "start_time": "2025-10-20T12:00:33.074796",
     "status": "completed"
    },
    "tags": []
   },
   "outputs": [
    {
     "data": {
      "text/plain": [
       "12632"
      ]
     },
     "execution_count": 7,
     "metadata": {},
     "output_type": "execute_result"
    }
   ],
   "source": [
    "last_index=len(tokenizer.word_index)\n",
    "last_index"
   ]
  },
  {
   "cell_type": "code",
   "execution_count": 8,
   "id": "d7fa2746",
   "metadata": {
    "execution": {
     "iopub.execute_input": "2025-10-20T12:00:33.096092Z",
     "iopub.status.busy": "2025-10-20T12:00:33.095721Z",
     "iopub.status.idle": "2025-10-20T12:00:33.098888Z",
     "shell.execute_reply": "2025-10-20T12:00:33.098353Z"
    },
    "papermill": {
     "duration": 0.009396,
     "end_time": "2025-10-20T12:00:33.099888",
     "exception": false,
     "start_time": "2025-10-20T12:00:33.090492",
     "status": "completed"
    },
    "tags": []
   },
   "outputs": [],
   "source": [
    "input_sequences=[]"
   ]
  },
  {
   "cell_type": "code",
   "execution_count": 9,
   "id": "f9144d56",
   "metadata": {
    "execution": {
     "iopub.execute_input": "2025-10-20T12:00:33.110086Z",
     "iopub.status.busy": "2025-10-20T12:00:33.109606Z",
     "iopub.status.idle": "2025-10-20T12:00:33.647178Z",
     "shell.execute_reply": "2025-10-20T12:00:33.646583Z"
    },
    "papermill": {
     "duration": 0.543998,
     "end_time": "2025-10-20T12:00:33.648532",
     "exception": false,
     "start_time": "2025-10-20T12:00:33.104534",
     "status": "completed"
    },
    "tags": []
   },
   "outputs": [],
   "source": [
    "for sentence in text.split(\"\\n\"):\n",
    "    tokenized_sentence=tokenizer.texts_to_sequences([sentence])[0]\n",
    "    for i in range (1,len(tokenized_sentence)):\n",
    "        n_gram=tokenized_sentence[:i+1]\n",
    "        input_sequences.append(n_gram)"
   ]
  },
  {
   "cell_type": "code",
   "execution_count": 10,
   "id": "8f9a4bb9",
   "metadata": {
    "execution": {
     "iopub.execute_input": "2025-10-20T12:00:33.659773Z",
     "iopub.status.busy": "2025-10-20T12:00:33.659132Z",
     "iopub.status.idle": "2025-10-20T12:00:33.663809Z",
     "shell.execute_reply": "2025-10-20T12:00:33.663116Z"
    },
    "papermill": {
     "duration": 0.011186,
     "end_time": "2025-10-20T12:00:33.664886",
     "exception": false,
     "start_time": "2025-10-20T12:00:33.653700",
     "status": "completed"
    },
    "tags": []
   },
   "outputs": [
    {
     "data": {
      "text/plain": [
       "[[88, 269],\n",
       " [139, 35],\n",
       " [139, 35, 969],\n",
       " [139, 35, 969, 143],\n",
       " [139, 35, 969, 143, 668]]"
      ]
     },
     "execution_count": 10,
     "metadata": {},
     "output_type": "execute_result"
    }
   ],
   "source": [
    "input_sequences[:5]"
   ]
  },
  {
   "cell_type": "code",
   "execution_count": 11,
   "id": "595b239b",
   "metadata": {
    "execution": {
     "iopub.execute_input": "2025-10-20T12:00:33.675544Z",
     "iopub.status.busy": "2025-10-20T12:00:33.675337Z",
     "iopub.status.idle": "2025-10-20T12:00:33.686916Z",
     "shell.execute_reply": "2025-10-20T12:00:33.686405Z"
    },
    "papermill": {
     "duration": 0.018237,
     "end_time": "2025-10-20T12:00:33.687912",
     "exception": false,
     "start_time": "2025-10-20T12:00:33.669675",
     "status": "completed"
    },
    "tags": []
   },
   "outputs": [
    {
     "data": {
      "text/plain": [
       "16"
      ]
     },
     "execution_count": 11,
     "metadata": {},
     "output_type": "execute_result"
    }
   ],
   "source": [
    "max_len=max([len(x) for x in input_sequences])\n",
    "max_len"
   ]
  },
  {
   "cell_type": "code",
   "execution_count": 12,
   "id": "ca623caa",
   "metadata": {
    "execution": {
     "iopub.execute_input": "2025-10-20T12:00:33.698848Z",
     "iopub.status.busy": "2025-10-20T12:00:33.698577Z",
     "iopub.status.idle": "2025-10-20T12:00:33.703094Z",
     "shell.execute_reply": "2025-10-20T12:00:33.702456Z"
    },
    "papermill": {
     "duration": 0.011376,
     "end_time": "2025-10-20T12:00:33.704148",
     "exception": false,
     "start_time": "2025-10-20T12:00:33.692772",
     "status": "completed"
    },
    "tags": []
   },
   "outputs": [],
   "source": [
    "from tensorflow.keras.preprocessing.sequence import pad_sequences"
   ]
  },
  {
   "cell_type": "code",
   "execution_count": 13,
   "id": "c1dde951",
   "metadata": {
    "execution": {
     "iopub.execute_input": "2025-10-20T12:00:33.714656Z",
     "iopub.status.busy": "2025-10-20T12:00:33.714456Z",
     "iopub.status.idle": "2025-10-20T12:00:34.004752Z",
     "shell.execute_reply": "2025-10-20T12:00:34.004123Z"
    },
    "papermill": {
     "duration": 0.296928,
     "end_time": "2025-10-20T12:00:34.006041",
     "exception": false,
     "start_time": "2025-10-20T12:00:33.709113",
     "status": "completed"
    },
    "tags": []
   },
   "outputs": [],
   "source": [
    "padded_input_sequences= pad_sequences(input_sequences,maxlen=max_len,padding='pre')"
   ]
  },
  {
   "cell_type": "code",
   "execution_count": 14,
   "id": "45d8d02e",
   "metadata": {
    "execution": {
     "iopub.execute_input": "2025-10-20T12:00:34.017371Z",
     "iopub.status.busy": "2025-10-20T12:00:34.016973Z",
     "iopub.status.idle": "2025-10-20T12:00:34.021886Z",
     "shell.execute_reply": "2025-10-20T12:00:34.021118Z"
    },
    "papermill": {
     "duration": 0.01179,
     "end_time": "2025-10-20T12:00:34.023086",
     "exception": false,
     "start_time": "2025-10-20T12:00:34.011296",
     "status": "completed"
    },
    "tags": []
   },
   "outputs": [
    {
     "data": {
      "text/plain": [
       "array([[  0,   0,   0,   0,   0,   0,   0,   0,   0,   0,   0,   0,   0,\n",
       "          0,  88, 269],\n",
       "       [  0,   0,   0,   0,   0,   0,   0,   0,   0,   0,   0,   0,   0,\n",
       "          0, 139,  35],\n",
       "       [  0,   0,   0,   0,   0,   0,   0,   0,   0,   0,   0,   0,   0,\n",
       "        139,  35, 969],\n",
       "       [  0,   0,   0,   0,   0,   0,   0,   0,   0,   0,   0,   0, 139,\n",
       "         35, 969, 143],\n",
       "       [  0,   0,   0,   0,   0,   0,   0,   0,   0,   0,   0, 139,  35,\n",
       "        969, 143, 668]], dtype=int32)"
      ]
     },
     "execution_count": 14,
     "metadata": {},
     "output_type": "execute_result"
    }
   ],
   "source": [
    "padded_input_sequences[:5]"
   ]
  },
  {
   "cell_type": "code",
   "execution_count": 15,
   "id": "2440ac8e",
   "metadata": {
    "execution": {
     "iopub.execute_input": "2025-10-20T12:00:34.033809Z",
     "iopub.status.busy": "2025-10-20T12:00:34.033608Z",
     "iopub.status.idle": "2025-10-20T12:00:34.038385Z",
     "shell.execute_reply": "2025-10-20T12:00:34.037794Z"
    },
    "papermill": {
     "duration": 0.011294,
     "end_time": "2025-10-20T12:00:34.039427",
     "exception": false,
     "start_time": "2025-10-20T12:00:34.028133",
     "status": "completed"
    },
    "tags": []
   },
   "outputs": [
    {
     "data": {
      "text/plain": [
       "array([[   0,    0,    0, ...,    0,    0,   88],\n",
       "       [   0,    0,    0, ...,    0,    0,  139],\n",
       "       [   0,    0,    0, ...,    0,  139,   35],\n",
       "       ...,\n",
       "       [   0,    0,    0, ...,    0,    0, 1062],\n",
       "       [   0,    0,    0, ...,    0, 1062,   25],\n",
       "       [   0,    0,    0, ..., 1062,   25,  131]], dtype=int32)"
      ]
     },
     "execution_count": 15,
     "metadata": {},
     "output_type": "execute_result"
    }
   ],
   "source": [
    "X=padded_input_sequences[:,:-1]\n",
    "X"
   ]
  },
  {
   "cell_type": "code",
   "execution_count": 16,
   "id": "f792d513",
   "metadata": {
    "execution": {
     "iopub.execute_input": "2025-10-20T12:00:34.050433Z",
     "iopub.status.busy": "2025-10-20T12:00:34.049918Z",
     "iopub.status.idle": "2025-10-20T12:00:34.054496Z",
     "shell.execute_reply": "2025-10-20T12:00:34.053792Z"
    },
    "papermill": {
     "duration": 0.011061,
     "end_time": "2025-10-20T12:00:34.055613",
     "exception": false,
     "start_time": "2025-10-20T12:00:34.044552",
     "status": "completed"
    },
    "tags": []
   },
   "outputs": [
    {
     "data": {
      "text/plain": [
       "array([ 269,   35,  969, ...,   25,  131, 1828], dtype=int32)"
      ]
     },
     "execution_count": 16,
     "metadata": {},
     "output_type": "execute_result"
    }
   ],
   "source": [
    "y=padded_input_sequences[:,-1]\n",
    "y"
   ]
  },
  {
   "cell_type": "code",
   "execution_count": 17,
   "id": "cf532e8c",
   "metadata": {
    "execution": {
     "iopub.execute_input": "2025-10-20T12:00:34.067347Z",
     "iopub.status.busy": "2025-10-20T12:00:34.066912Z",
     "iopub.status.idle": "2025-10-20T12:00:34.549940Z",
     "shell.execute_reply": "2025-10-20T12:00:34.549136Z"
    },
    "papermill": {
     "duration": 0.490192,
     "end_time": "2025-10-20T12:00:34.551141",
     "exception": false,
     "start_time": "2025-10-20T12:00:34.060949",
     "status": "completed"
    },
    "tags": []
   },
   "outputs": [
    {
     "data": {
      "text/plain": [
       "array([[0., 0., 0., ..., 0., 0., 0.],\n",
       "       [0., 0., 0., ..., 0., 0., 0.],\n",
       "       [0., 0., 0., ..., 0., 0., 0.],\n",
       "       ...,\n",
       "       [0., 0., 0., ..., 0., 0., 0.],\n",
       "       [0., 0., 0., ..., 0., 0., 0.],\n",
       "       [0., 0., 0., ..., 0., 0., 0.]])"
      ]
     },
     "execution_count": 17,
     "metadata": {},
     "output_type": "execute_result"
    }
   ],
   "source": [
    "from tensorflow.keras.utils import to_categorical\n",
    "to_categorical(y,num_classes=len(tokenizer.word_index)+1)"
   ]
  },
  {
   "cell_type": "markdown",
   "id": "6f083c26",
   "metadata": {
    "papermill": {
     "duration": 0.005129,
     "end_time": "2025-10-20T12:00:34.561779",
     "exception": false,
     "start_time": "2025-10-20T12:00:34.556650",
     "status": "completed"
    },
    "tags": []
   },
   "source": [
    "# model architecture and training"
   ]
  },
  {
   "cell_type": "code",
   "execution_count": 18,
   "id": "86247798",
   "metadata": {
    "execution": {
     "iopub.execute_input": "2025-10-20T12:00:34.572911Z",
     "iopub.status.busy": "2025-10-20T12:00:34.572701Z",
     "iopub.status.idle": "2025-10-20T12:00:34.578295Z",
     "shell.execute_reply": "2025-10-20T12:00:34.577736Z"
    },
    "papermill": {
     "duration": 0.012265,
     "end_time": "2025-10-20T12:00:34.579231",
     "exception": false,
     "start_time": "2025-10-20T12:00:34.566966",
     "status": "completed"
    },
    "tags": []
   },
   "outputs": [],
   "source": [
    "from tensorflow.keras.models import Sequential\n",
    "from tensorflow.keras.layers import Embedding, LSTM, Dense, Dropout\n",
    "import numpy as np"
   ]
  },
  {
   "cell_type": "code",
   "execution_count": 19,
   "id": "293866da",
   "metadata": {
    "execution": {
     "iopub.execute_input": "2025-10-20T12:00:34.590217Z",
     "iopub.status.busy": "2025-10-20T12:00:34.589992Z",
     "iopub.status.idle": "2025-10-20T12:00:36.484065Z",
     "shell.execute_reply": "2025-10-20T12:00:36.483199Z"
    },
    "papermill": {
     "duration": 1.901176,
     "end_time": "2025-10-20T12:00:36.485506",
     "exception": false,
     "start_time": "2025-10-20T12:00:34.584330",
     "status": "completed"
    },
    "tags": []
   },
   "outputs": [
    {
     "name": "stderr",
     "output_type": "stream",
     "text": [
      "/usr/local/lib/python3.11/dist-packages/keras/src/layers/core/embedding.py:93: UserWarning: Do not pass an `input_shape`/`input_dim` argument to a layer. When using Sequential models, prefer using an `Input(shape)` object as the first layer in the model instead.\n",
      "  super().__init__(**kwargs)\n",
      "I0000 00:00:1760961635.243362      19 gpu_device.cc:2022] Created device /job:localhost/replica:0/task:0/device:GPU:0 with 15513 MB memory:  -> device: 0, name: Tesla P100-PCIE-16GB, pci bus id: 0000:00:04.0, compute capability: 6.0\n"
     ]
    }
   ],
   "source": [
    "model = Sequential([\n",
    "    Embedding(last_index+1, 256, input_shape=(max_len,)),\n",
    "    LSTM(256, dropout=0.3),\n",
    "    Dense(last_index+1, activation='softmax')\n",
    "])"
   ]
  },
  {
   "cell_type": "code",
   "execution_count": 20,
   "id": "73cc8f62",
   "metadata": {
    "execution": {
     "iopub.execute_input": "2025-10-20T12:00:36.497349Z",
     "iopub.status.busy": "2025-10-20T12:00:36.497105Z",
     "iopub.status.idle": "2025-10-20T12:00:36.510063Z",
     "shell.execute_reply": "2025-10-20T12:00:36.509359Z"
    },
    "papermill": {
     "duration": 0.019859,
     "end_time": "2025-10-20T12:00:36.511127",
     "exception": false,
     "start_time": "2025-10-20T12:00:36.491268",
     "status": "completed"
    },
    "tags": []
   },
   "outputs": [],
   "source": [
    "from tensorflow.keras.optimizers import Adam\n",
    "optimizer = Adam(learning_rate=0.005, clipnorm=1.0)\n",
    "model.compile(loss='sparse_categorical_crossentropy',\n",
    "              optimizer=optimizer,\n",
    "              metrics=['accuracy'])"
   ]
  },
  {
   "cell_type": "code",
   "execution_count": 21,
   "id": "f291e1df",
   "metadata": {
    "execution": {
     "iopub.execute_input": "2025-10-20T12:00:36.522991Z",
     "iopub.status.busy": "2025-10-20T12:00:36.522337Z",
     "iopub.status.idle": "2025-10-20T12:00:36.534593Z",
     "shell.execute_reply": "2025-10-20T12:00:36.533876Z"
    },
    "papermill": {
     "duration": 0.019186,
     "end_time": "2025-10-20T12:00:36.535693",
     "exception": false,
     "start_time": "2025-10-20T12:00:36.516507",
     "status": "completed"
    },
    "tags": []
   },
   "outputs": [
    {
     "data": {
      "text/html": [
       "<pre style=\"white-space:pre;overflow-x:auto;line-height:normal;font-family:Menlo,'DejaVu Sans Mono',consolas,'Courier New',monospace\"><span style=\"font-weight: bold\">Model: \"sequential\"</span>\n",
       "</pre>\n"
      ],
      "text/plain": [
       "\u001b[1mModel: \"sequential\"\u001b[0m\n"
      ]
     },
     "metadata": {},
     "output_type": "display_data"
    },
    {
     "data": {
      "text/html": [
       "<pre style=\"white-space:pre;overflow-x:auto;line-height:normal;font-family:Menlo,'DejaVu Sans Mono',consolas,'Courier New',monospace\">┏━━━━━━━━━━━━━━━━━━━━━━━━━━━━━━━━━┳━━━━━━━━━━━━━━━━━━━━━━━━┳━━━━━━━━━━━━━━━┓\n",
       "┃<span style=\"font-weight: bold\"> Layer (type)                    </span>┃<span style=\"font-weight: bold\"> Output Shape           </span>┃<span style=\"font-weight: bold\">       Param # </span>┃\n",
       "┡━━━━━━━━━━━━━━━━━━━━━━━━━━━━━━━━━╇━━━━━━━━━━━━━━━━━━━━━━━━╇━━━━━━━━━━━━━━━┩\n",
       "│ embedding (<span style=\"color: #0087ff; text-decoration-color: #0087ff\">Embedding</span>)           │ (<span style=\"color: #00d7ff; text-decoration-color: #00d7ff\">None</span>, <span style=\"color: #00af00; text-decoration-color: #00af00\">16</span>, <span style=\"color: #00af00; text-decoration-color: #00af00\">256</span>)        │     <span style=\"color: #00af00; text-decoration-color: #00af00\">3,234,048</span> │\n",
       "├─────────────────────────────────┼────────────────────────┼───────────────┤\n",
       "│ lstm (<span style=\"color: #0087ff; text-decoration-color: #0087ff\">LSTM</span>)                     │ (<span style=\"color: #00d7ff; text-decoration-color: #00d7ff\">None</span>, <span style=\"color: #00af00; text-decoration-color: #00af00\">256</span>)            │       <span style=\"color: #00af00; text-decoration-color: #00af00\">525,312</span> │\n",
       "├─────────────────────────────────┼────────────────────────┼───────────────┤\n",
       "│ dense (<span style=\"color: #0087ff; text-decoration-color: #0087ff\">Dense</span>)                   │ (<span style=\"color: #00d7ff; text-decoration-color: #00d7ff\">None</span>, <span style=\"color: #00af00; text-decoration-color: #00af00\">12633</span>)          │     <span style=\"color: #00af00; text-decoration-color: #00af00\">3,246,681</span> │\n",
       "└─────────────────────────────────┴────────────────────────┴───────────────┘\n",
       "</pre>\n"
      ],
      "text/plain": [
       "┏━━━━━━━━━━━━━━━━━━━━━━━━━━━━━━━━━┳━━━━━━━━━━━━━━━━━━━━━━━━┳━━━━━━━━━━━━━━━┓\n",
       "┃\u001b[1m \u001b[0m\u001b[1mLayer (type)                   \u001b[0m\u001b[1m \u001b[0m┃\u001b[1m \u001b[0m\u001b[1mOutput Shape          \u001b[0m\u001b[1m \u001b[0m┃\u001b[1m \u001b[0m\u001b[1m      Param #\u001b[0m\u001b[1m \u001b[0m┃\n",
       "┡━━━━━━━━━━━━━━━━━━━━━━━━━━━━━━━━━╇━━━━━━━━━━━━━━━━━━━━━━━━╇━━━━━━━━━━━━━━━┩\n",
       "│ embedding (\u001b[38;5;33mEmbedding\u001b[0m)           │ (\u001b[38;5;45mNone\u001b[0m, \u001b[38;5;34m16\u001b[0m, \u001b[38;5;34m256\u001b[0m)        │     \u001b[38;5;34m3,234,048\u001b[0m │\n",
       "├─────────────────────────────────┼────────────────────────┼───────────────┤\n",
       "│ lstm (\u001b[38;5;33mLSTM\u001b[0m)                     │ (\u001b[38;5;45mNone\u001b[0m, \u001b[38;5;34m256\u001b[0m)            │       \u001b[38;5;34m525,312\u001b[0m │\n",
       "├─────────────────────────────────┼────────────────────────┼───────────────┤\n",
       "│ dense (\u001b[38;5;33mDense\u001b[0m)                   │ (\u001b[38;5;45mNone\u001b[0m, \u001b[38;5;34m12633\u001b[0m)          │     \u001b[38;5;34m3,246,681\u001b[0m │\n",
       "└─────────────────────────────────┴────────────────────────┴───────────────┘\n"
      ]
     },
     "metadata": {},
     "output_type": "display_data"
    },
    {
     "data": {
      "text/html": [
       "<pre style=\"white-space:pre;overflow-x:auto;line-height:normal;font-family:Menlo,'DejaVu Sans Mono',consolas,'Courier New',monospace\"><span style=\"font-weight: bold\"> Total params: </span><span style=\"color: #00af00; text-decoration-color: #00af00\">7,006,041</span> (26.73 MB)\n",
       "</pre>\n"
      ],
      "text/plain": [
       "\u001b[1m Total params: \u001b[0m\u001b[38;5;34m7,006,041\u001b[0m (26.73 MB)\n"
      ]
     },
     "metadata": {},
     "output_type": "display_data"
    },
    {
     "data": {
      "text/html": [
       "<pre style=\"white-space:pre;overflow-x:auto;line-height:normal;font-family:Menlo,'DejaVu Sans Mono',consolas,'Courier New',monospace\"><span style=\"font-weight: bold\"> Trainable params: </span><span style=\"color: #00af00; text-decoration-color: #00af00\">7,006,041</span> (26.73 MB)\n",
       "</pre>\n"
      ],
      "text/plain": [
       "\u001b[1m Trainable params: \u001b[0m\u001b[38;5;34m7,006,041\u001b[0m (26.73 MB)\n"
      ]
     },
     "metadata": {},
     "output_type": "display_data"
    },
    {
     "data": {
      "text/html": [
       "<pre style=\"white-space:pre;overflow-x:auto;line-height:normal;font-family:Menlo,'DejaVu Sans Mono',consolas,'Courier New',monospace\"><span style=\"font-weight: bold\"> Non-trainable params: </span><span style=\"color: #00af00; text-decoration-color: #00af00\">0</span> (0.00 B)\n",
       "</pre>\n"
      ],
      "text/plain": [
       "\u001b[1m Non-trainable params: \u001b[0m\u001b[38;5;34m0\u001b[0m (0.00 B)\n"
      ]
     },
     "metadata": {},
     "output_type": "display_data"
    }
   ],
   "source": [
    "model.summary()"
   ]
  },
  {
   "cell_type": "code",
   "execution_count": 22,
   "id": "16dacf17",
   "metadata": {
    "execution": {
     "iopub.execute_input": "2025-10-20T12:00:36.548197Z",
     "iopub.status.busy": "2025-10-20T12:00:36.547992Z",
     "iopub.status.idle": "2025-10-20T12:00:36.553594Z",
     "shell.execute_reply": "2025-10-20T12:00:36.552918Z"
    },
    "papermill": {
     "duration": 0.013029,
     "end_time": "2025-10-20T12:00:36.554674",
     "exception": false,
     "start_time": "2025-10-20T12:00:36.541645",
     "status": "completed"
    },
    "tags": []
   },
   "outputs": [],
   "source": [
    "from tensorflow.keras.callbacks import EarlyStopping, ModelCheckpoint\n",
    "\n",
    "early_stop = EarlyStopping(\n",
    "    monitor='val_loss',\n",
    "    patience=10,\n",
    "    restore_best_weights=True\n",
    ")\n",
    "\n",
    "checkpoint = ModelCheckpoint(\n",
    "    'best_model.h5',\n",
    "    monitor='val_loss',\n",
    "    save_best_only=True\n",
    ")"
   ]
  },
  {
   "cell_type": "code",
   "execution_count": 23,
   "id": "3ac7c77d",
   "metadata": {
    "execution": {
     "iopub.execute_input": "2025-10-20T12:00:36.567047Z",
     "iopub.status.busy": "2025-10-20T12:00:36.566612Z",
     "iopub.status.idle": "2025-10-20T12:06:09.467891Z",
     "shell.execute_reply": "2025-10-20T12:06:09.467278Z"
    },
    "papermill": {
     "duration": 332.908968,
     "end_time": "2025-10-20T12:06:09.469444",
     "exception": false,
     "start_time": "2025-10-20T12:00:36.560476",
     "status": "completed"
    },
    "tags": []
   },
   "outputs": [
    {
     "name": "stdout",
     "output_type": "stream",
     "text": [
      "Epoch 1/100\n"
     ]
    },
    {
     "name": "stderr",
     "output_type": "stream",
     "text": [
      "I0000 00:00:1760961640.591434      59 cuda_dnn.cc:529] Loaded cuDNN version 90300\n"
     ]
    },
    {
     "name": "stdout",
     "output_type": "stream",
     "text": [
      "\u001b[1m2410/2410\u001b[0m \u001b[32m━━━━━━━━━━━━━━━━━━━━\u001b[0m\u001b[37m\u001b[0m \u001b[1m35s\u001b[0m 13ms/step - accuracy: 0.0606 - loss: 6.7796 - val_accuracy: 0.0874 - val_loss: 6.4136\n",
      "Epoch 2/100\n",
      "\u001b[1m2410/2410\u001b[0m \u001b[32m━━━━━━━━━━━━━━━━━━━━\u001b[0m\u001b[37m\u001b[0m \u001b[1m30s\u001b[0m 12ms/step - accuracy: 0.1074 - loss: 5.6905 - val_accuracy: 0.0945 - val_loss: 6.5035\n",
      "Epoch 3/100\n",
      "\u001b[1m2410/2410\u001b[0m \u001b[32m━━━━━━━━━━━━━━━━━━━━\u001b[0m\u001b[37m\u001b[0m \u001b[1m30s\u001b[0m 12ms/step - accuracy: 0.1275 - loss: 5.1614 - val_accuracy: 0.0963 - val_loss: 6.7857\n",
      "Epoch 4/100\n",
      "\u001b[1m2410/2410\u001b[0m \u001b[32m━━━━━━━━━━━━━━━━━━━━\u001b[0m\u001b[37m\u001b[0m \u001b[1m30s\u001b[0m 12ms/step - accuracy: 0.1489 - loss: 4.7524 - val_accuracy: 0.0880 - val_loss: 7.0818\n",
      "Epoch 5/100\n",
      "\u001b[1m2410/2410\u001b[0m \u001b[32m━━━━━━━━━━━━━━━━━━━━\u001b[0m\u001b[37m\u001b[0m \u001b[1m30s\u001b[0m 12ms/step - accuracy: 0.1676 - loss: 4.4338 - val_accuracy: 0.0831 - val_loss: 7.4005\n",
      "Epoch 6/100\n",
      "\u001b[1m2410/2410\u001b[0m \u001b[32m━━━━━━━━━━━━━━━━━━━━\u001b[0m\u001b[37m\u001b[0m \u001b[1m30s\u001b[0m 12ms/step - accuracy: 0.1851 - loss: 4.2281 - val_accuracy: 0.0842 - val_loss: 7.6875\n",
      "Epoch 7/100\n",
      "\u001b[1m2410/2410\u001b[0m \u001b[32m━━━━━━━━━━━━━━━━━━━━\u001b[0m\u001b[37m\u001b[0m \u001b[1m30s\u001b[0m 12ms/step - accuracy: 0.1968 - loss: 4.0906 - val_accuracy: 0.0782 - val_loss: 7.9318\n",
      "Epoch 8/100\n",
      "\u001b[1m2410/2410\u001b[0m \u001b[32m━━━━━━━━━━━━━━━━━━━━\u001b[0m\u001b[37m\u001b[0m \u001b[1m30s\u001b[0m 12ms/step - accuracy: 0.2102 - loss: 3.9730 - val_accuracy: 0.0800 - val_loss: 8.1392\n",
      "Epoch 9/100\n",
      "\u001b[1m2410/2410\u001b[0m \u001b[32m━━━━━━━━━━━━━━━━━━━━\u001b[0m\u001b[37m\u001b[0m \u001b[1m30s\u001b[0m 12ms/step - accuracy: 0.2176 - loss: 3.8862 - val_accuracy: 0.0747 - val_loss: 8.3968\n",
      "Epoch 10/100\n",
      "\u001b[1m2410/2410\u001b[0m \u001b[32m━━━━━━━━━━━━━━━━━━━━\u001b[0m\u001b[37m\u001b[0m \u001b[1m30s\u001b[0m 12ms/step - accuracy: 0.2202 - loss: 3.8381 - val_accuracy: 0.0759 - val_loss: 8.5148\n",
      "Epoch 11/100\n",
      "\u001b[1m2410/2410\u001b[0m \u001b[32m━━━━━━━━━━━━━━━━━━━━\u001b[0m\u001b[37m\u001b[0m \u001b[1m30s\u001b[0m 12ms/step - accuracy: 0.2310 - loss: 3.7713 - val_accuracy: 0.0721 - val_loss: 8.7080\n"
     ]
    }
   ],
   "source": [
    "history = model.fit(\n",
    "    X, y,\n",
    "    validation_split=0.1,\n",
    "    epochs=100,\n",
    "    batch_size=64,\n",
    "    callbacks=[early_stop, checkpoint]\n",
    ")"
   ]
  },
  {
   "cell_type": "markdown",
   "id": "019fe014",
   "metadata": {
    "papermill": {
     "duration": 0.221393,
     "end_time": "2025-10-20T12:06:09.917203",
     "exception": false,
     "start_time": "2025-10-20T12:06:09.695810",
     "status": "completed"
    },
    "tags": []
   },
   "source": [
    "# prediction"
   ]
  },
  {
   "cell_type": "code",
   "execution_count": 24,
   "id": "0da46dea",
   "metadata": {
    "execution": {
     "iopub.execute_input": "2025-10-20T12:06:10.360089Z",
     "iopub.status.busy": "2025-10-20T12:06:10.359805Z",
     "iopub.status.idle": "2025-10-20T12:06:10.363792Z",
     "shell.execute_reply": "2025-10-20T12:06:10.363234Z"
    },
    "papermill": {
     "duration": 0.228448,
     "end_time": "2025-10-20T12:06:10.364806",
     "exception": false,
     "start_time": "2025-10-20T12:06:10.136358",
     "status": "completed"
    },
    "tags": []
   },
   "outputs": [],
   "source": [
    "text=\"royal\"\n",
    "# tokenize\n",
    "tokenized_text=tokenizer.texts_to_sequences([text])[0]\n",
    "# padding\n",
    "padded_text=pad_sequences([tokenized_text],maxlen=max_len,padding='pre')"
   ]
  },
  {
   "cell_type": "code",
   "execution_count": 25,
   "id": "f927785b",
   "metadata": {
    "execution": {
     "iopub.execute_input": "2025-10-20T12:06:10.830102Z",
     "iopub.status.busy": "2025-10-20T12:06:10.829430Z",
     "iopub.status.idle": "2025-10-20T12:06:11.103788Z",
     "shell.execute_reply": "2025-10-20T12:06:11.103046Z"
    },
    "papermill": {
     "duration": 0.51815,
     "end_time": "2025-10-20T12:06:11.104937",
     "exception": false,
     "start_time": "2025-10-20T12:06:10.586787",
     "status": "completed"
    },
    "tags": []
   },
   "outputs": [
    {
     "name": "stdout",
     "output_type": "stream",
     "text": [
      "\u001b[1m1/1\u001b[0m \u001b[32m━━━━━━━━━━━━━━━━━━━━\u001b[0m\u001b[37m\u001b[0m \u001b[1m0s\u001b[0m 214ms/step\n"
     ]
    }
   ],
   "source": [
    "# predict\n",
    "position=np.argmax(model.predict(padded_text))"
   ]
  },
  {
   "cell_type": "code",
   "execution_count": 26,
   "id": "228e98b6",
   "metadata": {
    "execution": {
     "iopub.execute_input": "2025-10-20T12:06:11.644501Z",
     "iopub.status.busy": "2025-10-20T12:06:11.643818Z",
     "iopub.status.idle": "2025-10-20T12:06:11.651285Z",
     "shell.execute_reply": "2025-10-20T12:06:11.650466Z"
    },
    "papermill": {
     "duration": 0.230037,
     "end_time": "2025-10-20T12:06:11.652356",
     "exception": false,
     "start_time": "2025-10-20T12:06:11.422319",
     "status": "completed"
    },
    "tags": []
   },
   "outputs": [
    {
     "name": "stdout",
     "output_type": "stream",
     "text": [
      "good\n"
     ]
    }
   ],
   "source": [
    "for word,index in tokenizer.word_index.items():\n",
    "    if index==position:\n",
    "        print(word)"
   ]
  },
  {
   "cell_type": "code",
   "execution_count": 27,
   "id": "e1c0ecaf",
   "metadata": {
    "execution": {
     "iopub.execute_input": "2025-10-20T12:06:12.103826Z",
     "iopub.status.busy": "2025-10-20T12:06:12.103523Z",
     "iopub.status.idle": "2025-10-20T12:06:12.107462Z",
     "shell.execute_reply": "2025-10-20T12:06:12.106659Z"
    },
    "papermill": {
     "duration": 0.235621,
     "end_time": "2025-10-20T12:06:12.108842",
     "exception": false,
     "start_time": "2025-10-20T12:06:11.873221",
     "status": "completed"
    },
    "tags": []
   },
   "outputs": [],
   "source": [
    "num_words=10"
   ]
  },
  {
   "cell_type": "code",
   "execution_count": 28,
   "id": "4ee8ad3a",
   "metadata": {
    "execution": {
     "iopub.execute_input": "2025-10-20T12:06:12.563708Z",
     "iopub.status.busy": "2025-10-20T12:06:12.563431Z",
     "iopub.status.idle": "2025-10-20T12:06:13.301587Z",
     "shell.execute_reply": "2025-10-20T12:06:13.300705Z"
    },
    "papermill": {
     "duration": 0.963899,
     "end_time": "2025-10-20T12:06:13.302824",
     "exception": false,
     "start_time": "2025-10-20T12:06:12.338925",
     "status": "completed"
    },
    "tags": []
   },
   "outputs": [
    {
     "name": "stdout",
     "output_type": "stream",
     "text": [
      "\u001b[1m1/1\u001b[0m \u001b[32m━━━━━━━━━━━━━━━━━━━━\u001b[0m\u001b[37m\u001b[0m \u001b[1m0s\u001b[0m 29ms/step\n",
      "of\n",
      "\u001b[1m1/1\u001b[0m \u001b[32m━━━━━━━━━━━━━━━━━━━━\u001b[0m\u001b[37m\u001b[0m \u001b[1m0s\u001b[0m 29ms/step\n",
      "the\n",
      "\u001b[1m1/1\u001b[0m \u001b[32m━━━━━━━━━━━━━━━━━━━━\u001b[0m\u001b[37m\u001b[0m \u001b[1m0s\u001b[0m 28ms/step\n",
      "king\n",
      "\u001b[1m1/1\u001b[0m \u001b[32m━━━━━━━━━━━━━━━━━━━━\u001b[0m\u001b[37m\u001b[0m \u001b[1m0s\u001b[0m 28ms/step\n",
      "of\n",
      "\u001b[1m1/1\u001b[0m \u001b[32m━━━━━━━━━━━━━━━━━━━━\u001b[0m\u001b[37m\u001b[0m \u001b[1m0s\u001b[0m 29ms/step\n",
      "the\n",
      "\u001b[1m1/1\u001b[0m \u001b[32m━━━━━━━━━━━━━━━━━━━━\u001b[0m\u001b[37m\u001b[0m \u001b[1m0s\u001b[0m 29ms/step\n",
      "king\n",
      "\u001b[1m1/1\u001b[0m \u001b[32m━━━━━━━━━━━━━━━━━━━━\u001b[0m\u001b[37m\u001b[0m \u001b[1m0s\u001b[0m 30ms/step\n",
      "and\n",
      "\u001b[1m1/1\u001b[0m \u001b[32m━━━━━━━━━━━━━━━━━━━━\u001b[0m\u001b[37m\u001b[0m \u001b[1m0s\u001b[0m 30ms/step\n",
      "my\n",
      "\u001b[1m1/1\u001b[0m \u001b[32m━━━━━━━━━━━━━━━━━━━━\u001b[0m\u001b[37m\u001b[0m \u001b[1m0s\u001b[0m 29ms/step\n",
      "lord\n",
      "\u001b[1m1/1\u001b[0m \u001b[32m━━━━━━━━━━━━━━━━━━━━\u001b[0m\u001b[37m\u001b[0m \u001b[1m0s\u001b[0m 29ms/step\n",
      "i\n"
     ]
    }
   ],
   "source": [
    "# prediction multiple words\n",
    "text=\"speech\"\n",
    "for i in range(num_words):\n",
    "    # tokenize\n",
    "    tokenized_text=tokenizer.texts_to_sequences([text])[0]\n",
    "    # padding\n",
    "    padded_text=pad_sequences([tokenized_text],maxlen=max_len,padding='pre')\n",
    "    # predict\n",
    "    position=np.argmax(model.predict(padded_text))\n",
    "    for word,index in tokenizer.word_index.items():\n",
    "        if index==position:\n",
    "            text=text+\" \"+word\n",
    "            print(word)"
   ]
  },
  {
   "cell_type": "code",
   "execution_count": 29,
   "id": "162bef65",
   "metadata": {
    "execution": {
     "iopub.execute_input": "2025-10-20T12:06:13.749041Z",
     "iopub.status.busy": "2025-10-20T12:06:13.748763Z",
     "iopub.status.idle": "2025-10-20T12:06:13.753371Z",
     "shell.execute_reply": "2025-10-20T12:06:13.752676Z"
    },
    "papermill": {
     "duration": 0.227708,
     "end_time": "2025-10-20T12:06:13.754551",
     "exception": false,
     "start_time": "2025-10-20T12:06:13.526843",
     "status": "completed"
    },
    "tags": []
   },
   "outputs": [
    {
     "data": {
      "text/plain": [
       "'speech of the king of the king and my lord i'"
      ]
     },
     "execution_count": 29,
     "metadata": {},
     "output_type": "execute_result"
    }
   ],
   "source": [
    "text"
   ]
  },
  {
   "cell_type": "markdown",
   "id": "95ed4b6b",
   "metadata": {
    "papermill": {
     "duration": 0.22317,
     "end_time": "2025-10-20T12:06:14.197017",
     "exception": false,
     "start_time": "2025-10-20T12:06:13.973847",
     "status": "completed"
    },
    "tags": []
   },
   "source": [
    "now we can see the issue with n gram also"
   ]
  },
  {
   "cell_type": "code",
   "execution_count": null,
   "id": "4a44500a",
   "metadata": {
    "papermill": {
     "duration": 0.218564,
     "end_time": "2025-10-20T12:06:14.717832",
     "exception": false,
     "start_time": "2025-10-20T12:06:14.499268",
     "status": "completed"
    },
    "tags": []
   },
   "outputs": [],
   "source": []
  }
 ],
 "metadata": {
  "kaggle": {
   "accelerator": "gpu",
   "dataSources": [],
   "dockerImageVersionId": 31154,
   "isGpuEnabled": true,
   "isInternetEnabled": true,
   "language": "python",
   "sourceType": "notebook"
  },
  "kernelspec": {
   "display_name": "Python 3",
   "language": "python",
   "name": "python3"
  },
  "language_info": {
   "codemirror_mode": {
    "name": "ipython",
    "version": 3
   },
   "file_extension": ".py",
   "mimetype": "text/x-python",
   "name": "python",
   "nbconvert_exporter": "python",
   "pygments_lexer": "ipython3",
   "version": "3.11.13"
  },
  "papermill": {
   "default_parameters": {},
   "duration": 363.09958,
   "end_time": "2025-10-20T12:06:18.419624",
   "environment_variables": {},
   "exception": null,
   "input_path": "__notebook__.ipynb",
   "output_path": "__notebook__.ipynb",
   "parameters": {},
   "start_time": "2025-10-20T12:00:15.320044",
   "version": "2.6.0"
  }
 },
 "nbformat": 4,
 "nbformat_minor": 5
}
